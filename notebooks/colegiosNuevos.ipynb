{
 "cells": [
  {
   "cell_type": "code",
   "execution_count": 713,
   "metadata": {},
   "outputs": [],
   "source": [
    "import pandas as pd\n",
    "import os\n",
    "import numpy as np\n",
    "\n",
    "# Acceder a la ruta donde se encuentra los archivos\n",
    "ruta = os.getcwd()"
   ]
  },
  {
   "cell_type": "code",
   "execution_count": 714,
   "metadata": {},
   "outputs": [],
   "source": [
    "# Leemos el archivo .csv\n",
    "data = pd.read_excel(ruta+r\"\\padron_oficial.xlsx\", sheet_name=\"Padrón\", skiprows=5)"
   ]
  },
  {
   "cell_type": "code",
   "execution_count": 715,
   "metadata": {},
   "outputs": [
    {
     "data": {
      "text/html": [
       "<div>\n",
       "<style scoped>\n",
       "    .dataframe tbody tr th:only-of-type {\n",
       "        vertical-align: middle;\n",
       "    }\n",
       "\n",
       "    .dataframe tbody tr th {\n",
       "        vertical-align: top;\n",
       "    }\n",
       "\n",
       "    .dataframe thead th {\n",
       "        text-align: right;\n",
       "    }\n",
       "</style>\n",
       "<table border=\"1\" class=\"dataframe\">\n",
       "  <thead>\n",
       "    <tr style=\"text-align: right;\">\n",
       "      <th></th>\n",
       "      <th>Jurisdicción</th>\n",
       "      <th>Sector</th>\n",
       "      <th>Ámbito</th>\n",
       "      <th>Departamento</th>\n",
       "      <th>Código de departamento</th>\n",
       "      <th>Localidad</th>\n",
       "      <th>Código localidad</th>\n",
       "      <th>Clave única de establecimiento (cue)</th>\n",
       "      <th>Clave única de establecimiento - anexo (cueanexo)</th>\n",
       "      <th>Nombre</th>\n",
       "      <th>...</th>\n",
       "      <th>Alfabetización</th>\n",
       "      <th>Formación Profesional</th>\n",
       "      <th>Formación Profesional (INET)</th>\n",
       "      <th>Secundaria.3</th>\n",
       "      <th>Superior no Universitario.1</th>\n",
       "      <th>Cursos y Talleres</th>\n",
       "      <th>Inicial.2</th>\n",
       "      <th>Primaria.3</th>\n",
       "      <th>Secundaria.4</th>\n",
       "      <th>Servicios complementarios</th>\n",
       "    </tr>\n",
       "  </thead>\n",
       "  <tbody>\n",
       "    <tr>\n",
       "      <th>0</th>\n",
       "      <td>Ciudad de Buenos Aires</td>\n",
       "      <td>Privado</td>\n",
       "      <td>Urbano</td>\n",
       "      <td>Comuna 4</td>\n",
       "      <td>2104</td>\n",
       "      <td>CIUDAD DE BUENOS AIRES</td>\n",
       "      <td>2104001</td>\n",
       "      <td>200001</td>\n",
       "      <td>20000100</td>\n",
       "      <td>INSTITUTO PRIVADO ESCUELA EVANGELICA WILLIAM C...</td>\n",
       "      <td>...</td>\n",
       "      <td>NaN</td>\n",
       "      <td>NaN</td>\n",
       "      <td>NaN</td>\n",
       "      <td>NaN</td>\n",
       "      <td>NaN</td>\n",
       "      <td>NaN</td>\n",
       "      <td>NaN</td>\n",
       "      <td>NaN</td>\n",
       "      <td>NaN</td>\n",
       "      <td>NaN</td>\n",
       "    </tr>\n",
       "    <tr>\n",
       "      <th>1</th>\n",
       "      <td>Ciudad de Buenos Aires</td>\n",
       "      <td>Estatal</td>\n",
       "      <td>Urbano</td>\n",
       "      <td>Comuna 4</td>\n",
       "      <td>2104</td>\n",
       "      <td>CIUDAD DE BUENOS AIRES</td>\n",
       "      <td>2104001</td>\n",
       "      <td>200002</td>\n",
       "      <td>20000200</td>\n",
       "      <td>CARLOS R. VIGNALE</td>\n",
       "      <td>...</td>\n",
       "      <td>NaN</td>\n",
       "      <td>NaN</td>\n",
       "      <td>NaN</td>\n",
       "      <td>NaN</td>\n",
       "      <td>NaN</td>\n",
       "      <td>NaN</td>\n",
       "      <td>NaN</td>\n",
       "      <td>NaN</td>\n",
       "      <td>NaN</td>\n",
       "      <td>NaN</td>\n",
       "    </tr>\n",
       "    <tr>\n",
       "      <th>2</th>\n",
       "      <td>Ciudad de Buenos Aires</td>\n",
       "      <td>Privado</td>\n",
       "      <td>Urbano</td>\n",
       "      <td>Comuna 13</td>\n",
       "      <td>2113</td>\n",
       "      <td>CIUDAD DE BUENOS AIRES</td>\n",
       "      <td>2113001</td>\n",
       "      <td>200003</td>\n",
       "      <td>20000300</td>\n",
       "      <td>INSTITUTO SAN CAYETANO</td>\n",
       "      <td>...</td>\n",
       "      <td>NaN</td>\n",
       "      <td>NaN</td>\n",
       "      <td>NaN</td>\n",
       "      <td>NaN</td>\n",
       "      <td>NaN</td>\n",
       "      <td>NaN</td>\n",
       "      <td>NaN</td>\n",
       "      <td>NaN</td>\n",
       "      <td>NaN</td>\n",
       "      <td>NaN</td>\n",
       "    </tr>\n",
       "  </tbody>\n",
       "</table>\n",
       "<p>3 rows × 47 columns</p>\n",
       "</div>"
      ],
      "text/plain": [
       "             Jurisdicción   Sector  Ámbito Departamento  \\\n",
       "0  Ciudad de Buenos Aires  Privado  Urbano     Comuna 4   \n",
       "1  Ciudad de Buenos Aires  Estatal  Urbano     Comuna 4   \n",
       "2  Ciudad de Buenos Aires  Privado  Urbano    Comuna 13   \n",
       "\n",
       "   Código de departamento               Localidad  Código localidad  \\\n",
       "0                    2104  CIUDAD DE BUENOS AIRES           2104001   \n",
       "1                    2104  CIUDAD DE BUENOS AIRES           2104001   \n",
       "2                    2113  CIUDAD DE BUENOS AIRES           2113001   \n",
       "\n",
       "   Clave única de establecimiento (cue)  \\\n",
       "0                                200001   \n",
       "1                                200002   \n",
       "2                                200003   \n",
       "\n",
       "   Clave única de establecimiento - anexo (cueanexo)  \\\n",
       "0                                           20000100   \n",
       "1                                           20000200   \n",
       "2                                           20000300   \n",
       "\n",
       "                                              Nombre  ... Alfabetización  \\\n",
       "0  INSTITUTO PRIVADO ESCUELA EVANGELICA WILLIAM C...  ...            NaN   \n",
       "1                                  CARLOS R. VIGNALE  ...            NaN   \n",
       "2                             INSTITUTO SAN CAYETANO  ...            NaN   \n",
       "\n",
       "  Formación Profesional Formación Profesional (INET) Secundaria.3  \\\n",
       "0                   NaN                          NaN          NaN   \n",
       "1                   NaN                          NaN          NaN   \n",
       "2                   NaN                          NaN          NaN   \n",
       "\n",
       "  Superior no Universitario.1  Cursos y Talleres  Inicial.2  Primaria.3  \\\n",
       "0                         NaN                NaN        NaN         NaN   \n",
       "1                         NaN                NaN        NaN         NaN   \n",
       "2                         NaN                NaN        NaN         NaN   \n",
       "\n",
       "   Secundaria.4  Servicios complementarios  \n",
       "0           NaN                        NaN  \n",
       "1           NaN                        NaN  \n",
       "2           NaN                        NaN  \n",
       "\n",
       "[3 rows x 47 columns]"
      ]
     },
     "execution_count": 715,
     "metadata": {},
     "output_type": "execute_result"
    }
   ],
   "source": [
    "data.head(3)"
   ]
  },
  {
   "cell_type": "code",
   "execution_count": 716,
   "metadata": {},
   "outputs": [
    {
     "data": {
      "text/plain": [
       "(64043, 47)"
      ]
     },
     "execution_count": 716,
     "metadata": {},
     "output_type": "execute_result"
    }
   ],
   "source": [
    "# Vemos la cantidad de registros que tiene el dataset\n",
    "data.shape"
   ]
  },
  {
   "cell_type": "code",
   "execution_count": 717,
   "metadata": {},
   "outputs": [
    {
     "data": {
      "text/plain": [
       "Index(['Jurisdicción', 'Sector', 'Ámbito', 'Departamento',\n",
       "       'Código de departamento', 'Localidad', 'Código localidad',\n",
       "       'Clave única de establecimiento (cue)',\n",
       "       'Clave única de establecimiento - anexo (cueanexo)', 'Nombre',\n",
       "       'Domicilio', 'Código Postal', 'Código de área telefónico',\n",
       "       'Número de teléfono', 'Correo elecontrónico', 'Ed. Común',\n",
       "       'Ed. Especial', 'Ed. Jóvenes y Adultos', 'Ed. Artística',\n",
       "       'Ed. Hospitalaria Domiciliaria', 'Ed. Intercultural Bilingüe',\n",
       "       'Ed. Contexto de Encierro', 'Jardín maternal', 'Inicial', 'Primaria',\n",
       "       'Secundaria', 'Secundaria Técnica (INET)', 'Superior no Universitario',\n",
       "       'Superior No Universitario (INET)', 'Educación Temprana', 'Inicial.1',\n",
       "       'Primaria.1', 'Secundaria.1', 'Integración', 'Primaria.2', 'EGB3',\n",
       "       'Secundaria.2', 'Alfabetización', 'Formación Profesional',\n",
       "       'Formación Profesional (INET)', 'Secundaria.3',\n",
       "       'Superior no Universitario.1', 'Cursos y Talleres', 'Inicial.2',\n",
       "       'Primaria.3', 'Secundaria.4', 'Servicios complementarios'],\n",
       "      dtype='object')"
      ]
     },
     "execution_count": 717,
     "metadata": {},
     "output_type": "execute_result"
    }
   ],
   "source": [
    "# Vemos los nombres de las columnas del dataframe\n",
    "data.columns"
   ]
  },
  {
   "cell_type": "code",
   "execution_count": 718,
   "metadata": {},
   "outputs": [
    {
     "data": {
      "text/html": [
       "<div>\n",
       "<style scoped>\n",
       "    .dataframe tbody tr th:only-of-type {\n",
       "        vertical-align: middle;\n",
       "    }\n",
       "\n",
       "    .dataframe tbody tr th {\n",
       "        vertical-align: top;\n",
       "    }\n",
       "\n",
       "    .dataframe thead th {\n",
       "        text-align: right;\n",
       "    }\n",
       "</style>\n",
       "<table border=\"1\" class=\"dataframe\">\n",
       "  <thead>\n",
       "    <tr style=\"text-align: right;\">\n",
       "      <th></th>\n",
       "      <th>Jurisdicción</th>\n",
       "      <th>Sector</th>\n",
       "      <th>Ámbito</th>\n",
       "      <th>Departamento</th>\n",
       "      <th>Código de departamento</th>\n",
       "      <th>Localidad</th>\n",
       "      <th>Código localidad</th>\n",
       "      <th>Clave única de establecimiento (cue)</th>\n",
       "      <th>Clave única de establecimiento - anexo (cueanexo)</th>\n",
       "      <th>Nombre</th>\n",
       "      <th>...</th>\n",
       "      <th>EJA_Alfabetización</th>\n",
       "      <th>EJA_Formación Profesional</th>\n",
       "      <th>EJA_Formación Profesional (INET)</th>\n",
       "      <th>EA_Secundaria</th>\n",
       "      <th>EA_Superior no Universitario</th>\n",
       "      <th>EA_Cursos y Talleres</th>\n",
       "      <th>EHD_Inicial</th>\n",
       "      <th>EHD_Primaria</th>\n",
       "      <th>EHD_Secundaria</th>\n",
       "      <th>Servicios complementarios</th>\n",
       "    </tr>\n",
       "  </thead>\n",
       "  <tbody>\n",
       "    <tr>\n",
       "      <th>0</th>\n",
       "      <td>Ciudad de Buenos Aires</td>\n",
       "      <td>Privado</td>\n",
       "      <td>Urbano</td>\n",
       "      <td>Comuna 4</td>\n",
       "      <td>2104</td>\n",
       "      <td>CIUDAD DE BUENOS AIRES</td>\n",
       "      <td>2104001</td>\n",
       "      <td>200001</td>\n",
       "      <td>20000100</td>\n",
       "      <td>INSTITUTO PRIVADO ESCUELA EVANGELICA WILLIAM C...</td>\n",
       "      <td>...</td>\n",
       "      <td>NaN</td>\n",
       "      <td>NaN</td>\n",
       "      <td>NaN</td>\n",
       "      <td>NaN</td>\n",
       "      <td>NaN</td>\n",
       "      <td>NaN</td>\n",
       "      <td>NaN</td>\n",
       "      <td>NaN</td>\n",
       "      <td>NaN</td>\n",
       "      <td>NaN</td>\n",
       "    </tr>\n",
       "    <tr>\n",
       "      <th>1</th>\n",
       "      <td>Ciudad de Buenos Aires</td>\n",
       "      <td>Estatal</td>\n",
       "      <td>Urbano</td>\n",
       "      <td>Comuna 4</td>\n",
       "      <td>2104</td>\n",
       "      <td>CIUDAD DE BUENOS AIRES</td>\n",
       "      <td>2104001</td>\n",
       "      <td>200002</td>\n",
       "      <td>20000200</td>\n",
       "      <td>CARLOS R. VIGNALE</td>\n",
       "      <td>...</td>\n",
       "      <td>NaN</td>\n",
       "      <td>NaN</td>\n",
       "      <td>NaN</td>\n",
       "      <td>NaN</td>\n",
       "      <td>NaN</td>\n",
       "      <td>NaN</td>\n",
       "      <td>NaN</td>\n",
       "      <td>NaN</td>\n",
       "      <td>NaN</td>\n",
       "      <td>NaN</td>\n",
       "    </tr>\n",
       "  </tbody>\n",
       "</table>\n",
       "<p>2 rows × 47 columns</p>\n",
       "</div>"
      ],
      "text/plain": [
       "             Jurisdicción   Sector  Ámbito Departamento  \\\n",
       "0  Ciudad de Buenos Aires  Privado  Urbano     Comuna 4   \n",
       "1  Ciudad de Buenos Aires  Estatal  Urbano     Comuna 4   \n",
       "\n",
       "   Código de departamento               Localidad  Código localidad  \\\n",
       "0                    2104  CIUDAD DE BUENOS AIRES           2104001   \n",
       "1                    2104  CIUDAD DE BUENOS AIRES           2104001   \n",
       "\n",
       "   Clave única de establecimiento (cue)  \\\n",
       "0                                200001   \n",
       "1                                200002   \n",
       "\n",
       "   Clave única de establecimiento - anexo (cueanexo)  \\\n",
       "0                                           20000100   \n",
       "1                                           20000200   \n",
       "\n",
       "                                              Nombre  ... EJA_Alfabetización  \\\n",
       "0  INSTITUTO PRIVADO ESCUELA EVANGELICA WILLIAM C...  ...                NaN   \n",
       "1                                  CARLOS R. VIGNALE  ...                NaN   \n",
       "\n",
       "  EJA_Formación Profesional EJA_Formación Profesional (INET) EA_Secundaria  \\\n",
       "0                       NaN                              NaN           NaN   \n",
       "1                       NaN                              NaN           NaN   \n",
       "\n",
       "  EA_Superior no Universitario  EA_Cursos y Talleres  EHD_Inicial  \\\n",
       "0                          NaN                   NaN          NaN   \n",
       "1                          NaN                   NaN          NaN   \n",
       "\n",
       "   EHD_Primaria  EHD_Secundaria  Servicios complementarios  \n",
       "0           NaN             NaN                        NaN  \n",
       "1           NaN             NaN                        NaN  \n",
       "\n",
       "[2 rows x 47 columns]"
      ]
     },
     "execution_count": 718,
     "metadata": {},
     "output_type": "execute_result"
    }
   ],
   "source": [
    "# Reemplazar los nombres de las columnas utilizando el método set_axis()\n",
    "data = data.set_axis(['Jurisdicción', 'Sector', 'Ámbito', 'Departamento',\n",
    "       'Código de departamento', 'Localidad', 'Código localidad',\n",
    "       'Clave única de establecimiento (cue)',\n",
    "       'Clave única de establecimiento - anexo (cueanexo)', 'Nombre',\n",
    "       'Domicilio', 'Código Postal', 'Código de área telefónico',\n",
    "       'Número de teléfono', 'Correo elecontrónico', 'Ed. Común',\n",
    "       'Ed. Especial', 'Ed. Jóvenes y Adultos', 'Ed. Artística',\n",
    "       'Ed. Hospitalaria Domiciliaria', 'Ed. Intercultural Bilingüe',\n",
    "       'Ed. Contexto de Encierro', 'EC_Jardín maternal', 'EC_Inicial', 'EC_Primaria',\n",
    "       'EC_Secundaria', 'EC_Secundaria Técnica (INET)', 'EC_Superior no Universitario',\n",
    "       'EC_Superior No Universitario (INET)', 'EESP_Educación Temprana', 'EESP_Inicial',\n",
    "       'EESP_Primaria', 'EESP_Secundaria', 'EESP_Integración', 'EJA_Primaria', 'EJA_EGB3',\n",
    "       'EJA_Secundaria', 'EJA_Alfabetización', 'EJA_Formación Profesional',\n",
    "       'EJA_Formación Profesional (INET)', 'EA_Secundaria',\n",
    "       'EA_Superior no Universitario', 'EA_Cursos y Talleres', 'EHD_Inicial',\n",
    "       'EHD_Primaria', 'EHD_Secundaria', 'Servicios complementarios'], axis=1)\n",
    "data.head(2)"
   ]
  },
  {
   "cell_type": "code",
   "execution_count": 719,
   "metadata": {},
   "outputs": [
    {
     "data": {
      "text/plain": [
       "(64043, 32)"
      ]
     },
     "execution_count": 719,
     "metadata": {},
     "output_type": "execute_result"
    }
   ],
   "source": [
    "# Eliminamos las columnas que no sirven\n",
    "columnasAEliminar = ['Código localidad',\n",
    "        'Clave única de establecimiento (cue)', 'Clave única de establecimiento - anexo (cueanexo)',\n",
    "        'EESP_Educación Temprana', 'EESP_Inicial', 'EESP_Primaria', 'EESP_Secundaria',\n",
    "        'EESP_Integración', 'EA_Secundaria','EA_Superior no Universitario', 'EA_Cursos y Talleres',\n",
    "        'EHD_Inicial', 'EHD_Primaria', 'EHD_Secundaria', 'Servicios complementarios']\n",
    "\n",
    "data = data.drop(columns=columnasAEliminar)\n",
    "data.shape"
   ]
  },
  {
   "cell_type": "code",
   "execution_count": 720,
   "metadata": {},
   "outputs": [
    {
     "data": {
      "text/plain": [
       "Urbano             46022\n",
       "Rural              18008\n",
       "Sin información       13\n",
       "Name: Ámbito, dtype: int64"
      ]
     },
     "execution_count": 720,
     "metadata": {},
     "output_type": "execute_result"
    }
   ],
   "source": [
    "# Vemos la cantidad de registros que hay por el \"Ámbito\"\n",
    "data[\"Ámbito\"].value_counts()"
   ]
  },
  {
   "cell_type": "code",
   "execution_count": 721,
   "metadata": {},
   "outputs": [],
   "source": [
    "# Nos quedamos con un nuevo dataframe que solo tenga los registros de \"Urbano\"\n",
    "mascara = data[\"Ámbito\"] == \"Urbano\"\n",
    "\n",
    "dataUrbanos = data[mascara]"
   ]
  },
  {
   "cell_type": "code",
   "execution_count": 722,
   "metadata": {},
   "outputs": [
    {
     "data": {
      "text/html": [
       "<div>\n",
       "<style scoped>\n",
       "    .dataframe tbody tr th:only-of-type {\n",
       "        vertical-align: middle;\n",
       "    }\n",
       "\n",
       "    .dataframe tbody tr th {\n",
       "        vertical-align: top;\n",
       "    }\n",
       "\n",
       "    .dataframe thead th {\n",
       "        text-align: right;\n",
       "    }\n",
       "</style>\n",
       "<table border=\"1\" class=\"dataframe\">\n",
       "  <thead>\n",
       "    <tr style=\"text-align: right;\">\n",
       "      <th></th>\n",
       "      <th>Jurisdicción</th>\n",
       "      <th>Sector</th>\n",
       "      <th>Ámbito</th>\n",
       "      <th>Departamento</th>\n",
       "      <th>Código de departamento</th>\n",
       "      <th>Localidad</th>\n",
       "      <th>Nombre</th>\n",
       "      <th>Domicilio</th>\n",
       "      <th>Código Postal</th>\n",
       "      <th>Código de área telefónico</th>\n",
       "      <th>...</th>\n",
       "      <th>EC_Secundaria</th>\n",
       "      <th>EC_Secundaria Técnica (INET)</th>\n",
       "      <th>EC_Superior no Universitario</th>\n",
       "      <th>EC_Superior No Universitario (INET)</th>\n",
       "      <th>EJA_Primaria</th>\n",
       "      <th>EJA_EGB3</th>\n",
       "      <th>EJA_Secundaria</th>\n",
       "      <th>EJA_Alfabetización</th>\n",
       "      <th>EJA_Formación Profesional</th>\n",
       "      <th>EJA_Formación Profesional (INET)</th>\n",
       "    </tr>\n",
       "  </thead>\n",
       "  <tbody>\n",
       "    <tr>\n",
       "      <th>0</th>\n",
       "      <td>Ciudad de Buenos Aires</td>\n",
       "      <td>Privado</td>\n",
       "      <td>Urbano</td>\n",
       "      <td>Comuna 4</td>\n",
       "      <td>2104</td>\n",
       "      <td>CIUDAD DE BUENOS AIRES</td>\n",
       "      <td>INSTITUTO PRIVADO ESCUELA EVANGELICA WILLIAM C...</td>\n",
       "      <td>SUÁREZ  684 BOCA</td>\n",
       "      <td>C1162</td>\n",
       "      <td>011</td>\n",
       "      <td>...</td>\n",
       "      <td>1.0</td>\n",
       "      <td>NaN</td>\n",
       "      <td>NaN</td>\n",
       "      <td>NaN</td>\n",
       "      <td>NaN</td>\n",
       "      <td>NaN</td>\n",
       "      <td>NaN</td>\n",
       "      <td>NaN</td>\n",
       "      <td>NaN</td>\n",
       "      <td>NaN</td>\n",
       "    </tr>\n",
       "    <tr>\n",
       "      <th>1</th>\n",
       "      <td>Ciudad de Buenos Aires</td>\n",
       "      <td>Estatal</td>\n",
       "      <td>Urbano</td>\n",
       "      <td>Comuna 4</td>\n",
       "      <td>2104</td>\n",
       "      <td>CIUDAD DE BUENOS AIRES</td>\n",
       "      <td>CARLOS R. VIGNALE</td>\n",
       "      <td>WENCESLAO VILLAFAÑE 453 BOCA</td>\n",
       "      <td>C1160</td>\n",
       "      <td>011</td>\n",
       "      <td>...</td>\n",
       "      <td>NaN</td>\n",
       "      <td>NaN</td>\n",
       "      <td>NaN</td>\n",
       "      <td>NaN</td>\n",
       "      <td>NaN</td>\n",
       "      <td>NaN</td>\n",
       "      <td>NaN</td>\n",
       "      <td>NaN</td>\n",
       "      <td>NaN</td>\n",
       "      <td>NaN</td>\n",
       "    </tr>\n",
       "  </tbody>\n",
       "</table>\n",
       "<p>2 rows × 32 columns</p>\n",
       "</div>"
      ],
      "text/plain": [
       "             Jurisdicción   Sector  Ámbito Departamento  \\\n",
       "0  Ciudad de Buenos Aires  Privado  Urbano     Comuna 4   \n",
       "1  Ciudad de Buenos Aires  Estatal  Urbano     Comuna 4   \n",
       "\n",
       "   Código de departamento               Localidad  \\\n",
       "0                    2104  CIUDAD DE BUENOS AIRES   \n",
       "1                    2104  CIUDAD DE BUENOS AIRES   \n",
       "\n",
       "                                              Nombre  \\\n",
       "0  INSTITUTO PRIVADO ESCUELA EVANGELICA WILLIAM C...   \n",
       "1                                  CARLOS R. VIGNALE   \n",
       "\n",
       "                       Domicilio Código Postal Código de área telefónico  ...  \\\n",
       "0              SUÁREZ  684 BOCA          C1162                       011  ...   \n",
       "1  WENCESLAO VILLAFAÑE 453 BOCA          C1160                       011  ...   \n",
       "\n",
       "  EC_Secundaria EC_Secundaria Técnica (INET)  EC_Superior no Universitario  \\\n",
       "0           1.0                          NaN                           NaN   \n",
       "1           NaN                          NaN                           NaN   \n",
       "\n",
       "   EC_Superior No Universitario (INET)  EJA_Primaria  EJA_EGB3  \\\n",
       "0                                  NaN           NaN       NaN   \n",
       "1                                  NaN           NaN       NaN   \n",
       "\n",
       "   EJA_Secundaria  EJA_Alfabetización  EJA_Formación Profesional  \\\n",
       "0             NaN                 NaN                        NaN   \n",
       "1             NaN                 NaN                        NaN   \n",
       "\n",
       "   EJA_Formación Profesional (INET)  \n",
       "0                               NaN  \n",
       "1                               NaN  \n",
       "\n",
       "[2 rows x 32 columns]"
      ]
     },
     "execution_count": 722,
     "metadata": {},
     "output_type": "execute_result"
    }
   ],
   "source": [
    "dataUrbanos.head(2)"
   ]
  },
  {
   "cell_type": "code",
   "execution_count": 723,
   "metadata": {},
   "outputs": [
    {
     "name": "stderr",
     "output_type": "stream",
     "text": [
      "C:\\Users\\DH\\AppData\\Local\\Temp\\ipykernel_3884\\1811176142.py:2: SettingWithCopyWarning: \n",
      "A value is trying to be set on a copy of a slice from a DataFrame.\n",
      "Try using .loc[row_indexer,col_indexer] = value instead\n",
      "\n",
      "See the caveats in the documentation: https://pandas.pydata.org/pandas-docs/stable/user_guide/indexing.html#returning-a-view-versus-a-copy\n",
      "  dataUrbanos[\"FORMA_PARTE_DE_DH?\"] = \"\"\n"
     ]
    }
   ],
   "source": [
    "# Creamos la nueva columna para completar con los colegios que Digital ya tiene, o contactó\n",
    "dataUrbanos[\"FORMA_PARTE_DE_DH?\"] = \"\""
   ]
  },
  {
   "cell_type": "code",
   "execution_count": 724,
   "metadata": {},
   "outputs": [
    {
     "data": {
      "text/plain": [
       "Estatal               33863\n",
       "Privado               11672\n",
       "Social/cooperativa      487\n",
       "Name: Sector, dtype: int64"
      ]
     },
     "execution_count": 724,
     "metadata": {},
     "output_type": "execute_result"
    }
   ],
   "source": [
    "# Vemos la cantidad de registros que hay según el \"Sector\"\n",
    "dataUrbanos[\"Sector\"].value_counts()"
   ]
  },
  {
   "cell_type": "code",
   "execution_count": 725,
   "metadata": {},
   "outputs": [
    {
     "name": "stdout",
     "output_type": "stream",
     "text": [
      "<class 'pandas.core.frame.DataFrame'>\n",
      "Int64Index: 46022 entries, 0 to 64042\n",
      "Data columns (total 33 columns):\n",
      " #   Column                               Non-Null Count  Dtype  \n",
      "---  ------                               --------------  -----  \n",
      " 0   Jurisdicción                         46022 non-null  object \n",
      " 1   Sector                               46022 non-null  object \n",
      " 2   Ámbito                               46022 non-null  object \n",
      " 3   Departamento                         46022 non-null  object \n",
      " 4   Código de departamento               46022 non-null  int64  \n",
      " 5   Localidad                            46022 non-null  object \n",
      " 6   Nombre                               46022 non-null  object \n",
      " 7   Domicilio                            46022 non-null  object \n",
      " 8   Código Postal                        44349 non-null  object \n",
      " 9   Código de área telefónico            43844 non-null  object \n",
      " 10  Número de teléfono                   44864 non-null  object \n",
      " 11  Correo elecontrónico                 40437 non-null  object \n",
      " 12  Ed. Común                            34157 non-null  float64\n",
      " 13  Ed. Especial                         1810 non-null   float64\n",
      " 14  Ed. Jóvenes y Adultos                9000 non-null   float64\n",
      " 15  Ed. Artística                        486 non-null    float64\n",
      " 16  Ed. Hospitalaria Domiciliaria        270 non-null    float64\n",
      " 17  Ed. Intercultural Bilingüe           83 non-null     float64\n",
      " 18  Ed. Contexto de Encierro             238 non-null    float64\n",
      " 19  EC_Jardín maternal                   2933 non-null   float64\n",
      " 20  EC_Inicial                           13184 non-null  float64\n",
      " 21  EC_Primaria                          12640 non-null  float64\n",
      " 22  EC_Secundaria                        10147 non-null  float64\n",
      " 23  EC_Secundaria Técnica (INET)         1362 non-null   float64\n",
      " 24  EC_Superior no Universitario         2621 non-null   float64\n",
      " 25  EC_Superior No Universitario (INET)  683 non-null    float64\n",
      " 26  EJA_Primaria                         3835 non-null   float64\n",
      " 27  EJA_EGB3                             0 non-null      float64\n",
      " 28  EJA_Secundaria                       2908 non-null   float64\n",
      " 29  EJA_Alfabetización                   26 non-null     float64\n",
      " 30  EJA_Formación Profesional            3074 non-null   float64\n",
      " 31  EJA_Formación Profesional (INET)     1159 non-null   float64\n",
      " 32  FORMA_PARTE_DE_DH?                   46022 non-null  object \n",
      "dtypes: float64(20), int64(1), object(12)\n",
      "memory usage: 11.9+ MB\n"
     ]
    }
   ],
   "source": [
    "# Verificamos el tipo de datos de las columnas a analizar\n",
    "dataUrbanos.info()"
   ]
  },
  {
   "cell_type": "code",
   "execution_count": 726,
   "metadata": {},
   "outputs": [
    {
     "data": {
      "text/plain": [
       "(46022, 33)"
      ]
     },
     "execution_count": 726,
     "metadata": {},
     "output_type": "execute_result"
    }
   ],
   "source": [
    "dataUrbanos.shape"
   ]
  },
  {
   "cell_type": "code",
   "execution_count": 727,
   "metadata": {},
   "outputs": [],
   "source": [
    "# Filtramos el dataset, para quedarnos con los datos de educación común y los que sean jovenes y adultos \n",
    "mascaraEC = dataUrbanos[\"Ed. Común\"] == 1\n",
    "mascaraEJA = dataUrbanos[\"Ed. Jóvenes y Adultos\"] == 1\n",
    "mascaraEIB = dataUrbanos[\"Ed. Intercultural Bilingüe\"] == 1\n",
    "\n",
    "dataUrbanosModalidad = dataUrbanos[mascaraEC | mascaraEJA | mascaraEIB]"
   ]
  },
  {
   "cell_type": "code",
   "execution_count": 728,
   "metadata": {},
   "outputs": [
    {
     "data": {
      "text/plain": [
       "(42415, 33)"
      ]
     },
     "execution_count": 728,
     "metadata": {},
     "output_type": "execute_result"
    }
   ],
   "source": [
    "dataUrbanosModalidad.shape"
   ]
  },
  {
   "cell_type": "code",
   "execution_count": 729,
   "metadata": {},
   "outputs": [
    {
     "data": {
      "text/plain": [
       "(42415, 29)"
      ]
     },
     "execution_count": 729,
     "metadata": {},
     "output_type": "execute_result"
    }
   ],
   "source": [
    "# Eliminamos las columnas que ya no nos sirven\n",
    "columnasAEliminar = ['Ed. Especial', 'Ed. Artística', 'Ed. Hospitalaria Domiciliaria', 'Ed. Contexto de Encierro']\n",
    "\n",
    "dataUrbanosModalidad = dataUrbanosModalidad.drop(columns=columnasAEliminar)\n",
    "dataUrbanosModalidad.shape"
   ]
  },
  {
   "cell_type": "code",
   "execution_count": 730,
   "metadata": {},
   "outputs": [
    {
     "data": {
      "text/plain": [
       "Index(['EC_Jardín maternal', 'EC_Inicial', 'EC_Primaria', 'EC_Secundaria',\n",
       "       'EC_Secundaria Técnica (INET)', 'EC_Superior no Universitario',\n",
       "       'EC_Superior No Universitario (INET)', 'EJA_Primaria', 'EJA_EGB3',\n",
       "       'EJA_Secundaria', 'EJA_Alfabetización', 'EJA_Formación Profesional',\n",
       "       'EJA_Formación Profesional (INET)'],\n",
       "      dtype='object')"
      ]
     },
     "execution_count": 730,
     "metadata": {},
     "output_type": "execute_result"
    }
   ],
   "source": [
    "dataUrbanosModalidad.iloc[:, 15:28].columns"
   ]
  },
  {
   "cell_type": "code",
   "execution_count": 731,
   "metadata": {},
   "outputs": [
    {
     "data": {
      "text/plain": [
       "(32522, 29)"
      ]
     },
     "execution_count": 731,
     "metadata": {},
     "output_type": "execute_result"
    }
   ],
   "source": [
    "# Seleccionamos el rango de columnas 13 a 26 (la columna 26 no se incluye)\n",
    "subset = dataUrbanosModalidad.iloc[:, 15:28]\n",
    "\n",
    "# Verificamos la condición en las columnas 13 y 14\n",
    "condicion_col_13_14 = (subset.iloc[:, 0] == 1) | (subset.iloc[:, 1] == 1)\n",
    "\n",
    "# Verificamos que el resto de columnas sean todas nulas (NaN)\n",
    "condicion_resto_columnas = subset.iloc[:, 2:].isnull().all(axis=1)\n",
    "\n",
    "# Combinamos las dos condiciones con un operador lógico AND (&)\n",
    "condicion_final = condicion_col_13_14 & condicion_resto_columnas\n",
    "\n",
    "# Filtramos el DataFrame original con la condición final\n",
    "resultados = dataUrbanosModalidad[~condicion_final]\n",
    "\n",
    "# Si deseas visualizar los resultados\n",
    "resultados.shape"
   ]
  },
  {
   "cell_type": "code",
   "execution_count": 732,
   "metadata": {},
   "outputs": [],
   "source": [
    "# Exportamos los datos de un dataset con todos los registros, sin importar el sector\n",
    "# resultados.to_csv(\"Dataset Total.csv\", encoding=\"utf-8\", index=False)"
   ]
  },
  {
   "cell_type": "code",
   "execution_count": 733,
   "metadata": {},
   "outputs": [],
   "source": [
    "# Creamos dos dataframe separados, uno de Colegios Privados y Otros de Estatales y Sociales\n",
    "mascaraPrivado = resultados[\"Sector\"] == \"Privado\"\n",
    "mascaraEstatal = resultados[\"Sector\"] != \"Privado\"\n",
    "\n",
    "dataUrbPrivados = resultados[mascaraPrivado]\n",
    "dataUrbEstatales = resultados[mascaraEstatal]"
   ]
  },
  {
   "cell_type": "code",
   "execution_count": 734,
   "metadata": {},
   "outputs": [
    {
     "data": {
      "text/plain": [
       "Buenos Aires              3650\n",
       "Córdoba                    825\n",
       "Santa Fe                   729\n",
       "Ciudad de Buenos Aires     656\n",
       "Entre Ríos                 367\n",
       "Mendoza                    346\n",
       "Tucumán                    304\n",
       "Chaco                      239\n",
       "Misiones                   192\n",
       "Corrientes                 163\n",
       "Río Negro                  157\n",
       "San Juan                   152\n",
       "Salta                      152\n",
       "Neuquén                    115\n",
       "Santiago del Estero        111\n",
       "Chubut                      84\n",
       "Jujuy                       78\n",
       "San Luis                    54\n",
       "Santa Cruz                  48\n",
       "Formosa                     46\n",
       "La Pampa                    42\n",
       "Catamarca                   36\n",
       "La Rioja                    30\n",
       "Tierra del Fuego            22\n",
       "Name: Jurisdicción, dtype: int64"
      ]
     },
     "execution_count": 734,
     "metadata": {},
     "output_type": "execute_result"
    }
   ],
   "source": [
    "dataUrbPrivados[\"Jurisdicción\"].value_counts()"
   ]
  },
  {
   "cell_type": "code",
   "execution_count": 735,
   "metadata": {},
   "outputs": [
    {
     "data": {
      "text/plain": [
       "Buenos Aires              7745\n",
       "Santa Fe                  2200\n",
       "Córdoba                   1867\n",
       "Entre Ríos                1176\n",
       "Ciudad de Buenos Aires    1146\n",
       "Chaco                     1135\n",
       "Misiones                  1131\n",
       "Mendoza                   1122\n",
       "Tucumán                    715\n",
       "Salta                      629\n",
       "Río Negro                  621\n",
       "Corrientes                 571\n",
       "Formosa                    476\n",
       "San Juan                   437\n",
       "Santiago del Estero        413\n",
       "Neuquén                    406\n",
       "Jujuy                      390\n",
       "Chubut                     314\n",
       "La Pampa                   304\n",
       "La Rioja                   291\n",
       "San Luis                   247\n",
       "Catamarca                  238\n",
       "Santa Cruz                 213\n",
       "Tierra del Fuego           137\n",
       "Name: Jurisdicción, dtype: int64"
      ]
     },
     "execution_count": 735,
     "metadata": {},
     "output_type": "execute_result"
    }
   ],
   "source": [
    "dataUrbEstatales[\"Jurisdicción\"].value_counts()"
   ]
  },
  {
   "cell_type": "code",
   "execution_count": 736,
   "metadata": {},
   "outputs": [
    {
     "name": "stdout",
     "output_type": "stream",
     "text": [
      "Número de filas duplicadas: 1\n",
      "Número de filas duplicadas: 8\n"
     ]
    }
   ],
   "source": [
    "# Contar filas duplicadas\n",
    "num_duplicates = dataUrbPrivados.duplicated().sum()\n",
    "num_duplicates2 = dataUrbEstatales.duplicated().sum()\n",
    "\n",
    "# Imprimir el número de filas duplicadas\n",
    "print(f\"Número de filas duplicadas: {num_duplicates}\")\n",
    "print(f\"Número de filas duplicadas: {num_duplicates2}\")"
   ]
  },
  {
   "cell_type": "code",
   "execution_count": 737,
   "metadata": {},
   "outputs": [
    {
     "name": "stdout",
     "output_type": "stream",
     "text": [
      "(8598, 29)\n",
      "(23924, 29)\n"
     ]
    }
   ],
   "source": [
    "# Vemos la cantidad de datos finales que va a tener cada uno de los dataset\n",
    "print(dataUrbPrivados.shape)\n",
    "print(dataUrbEstatales.shape)"
   ]
  },
  {
   "cell_type": "code",
   "execution_count": 738,
   "metadata": {},
   "outputs": [
    {
     "data": {
      "text/html": [
       "<div>\n",
       "<style scoped>\n",
       "    .dataframe tbody tr th:only-of-type {\n",
       "        vertical-align: middle;\n",
       "    }\n",
       "\n",
       "    .dataframe tbody tr th {\n",
       "        vertical-align: top;\n",
       "    }\n",
       "\n",
       "    .dataframe thead th {\n",
       "        text-align: right;\n",
       "    }\n",
       "</style>\n",
       "<table border=\"1\" class=\"dataframe\">\n",
       "  <thead>\n",
       "    <tr style=\"text-align: right;\">\n",
       "      <th></th>\n",
       "      <th>Jurisdicción</th>\n",
       "      <th>Sector</th>\n",
       "      <th>Ámbito</th>\n",
       "      <th>Departamento</th>\n",
       "      <th>Código de departamento</th>\n",
       "      <th>Localidad</th>\n",
       "      <th>Nombre</th>\n",
       "      <th>Domicilio</th>\n",
       "      <th>Código Postal</th>\n",
       "      <th>Código de área telefónico</th>\n",
       "      <th>...</th>\n",
       "      <th>EC_Secundaria Técnica (INET)</th>\n",
       "      <th>EC_Superior no Universitario</th>\n",
       "      <th>EC_Superior No Universitario (INET)</th>\n",
       "      <th>EJA_Primaria</th>\n",
       "      <th>EJA_EGB3</th>\n",
       "      <th>EJA_Secundaria</th>\n",
       "      <th>EJA_Alfabetización</th>\n",
       "      <th>EJA_Formación Profesional</th>\n",
       "      <th>EJA_Formación Profesional (INET)</th>\n",
       "      <th>FORMA_PARTE_DE_DH?</th>\n",
       "    </tr>\n",
       "  </thead>\n",
       "  <tbody>\n",
       "    <tr>\n",
       "      <th>0</th>\n",
       "      <td>Ciudad de Buenos Aires</td>\n",
       "      <td>Privado</td>\n",
       "      <td>Urbano</td>\n",
       "      <td>Comuna 4</td>\n",
       "      <td>2104</td>\n",
       "      <td>CIUDAD DE BUENOS AIRES</td>\n",
       "      <td>INSTITUTO PRIVADO ESCUELA EVANGELICA WILLIAM C...</td>\n",
       "      <td>SUÁREZ  684 BOCA</td>\n",
       "      <td>C1162</td>\n",
       "      <td>011</td>\n",
       "      <td>...</td>\n",
       "      <td>NaN</td>\n",
       "      <td>NaN</td>\n",
       "      <td>NaN</td>\n",
       "      <td>NaN</td>\n",
       "      <td>NaN</td>\n",
       "      <td>NaN</td>\n",
       "      <td>NaN</td>\n",
       "      <td>NaN</td>\n",
       "      <td>NaN</td>\n",
       "      <td></td>\n",
       "    </tr>\n",
       "    <tr>\n",
       "      <th>2</th>\n",
       "      <td>Ciudad de Buenos Aires</td>\n",
       "      <td>Privado</td>\n",
       "      <td>Urbano</td>\n",
       "      <td>Comuna 13</td>\n",
       "      <td>2113</td>\n",
       "      <td>CIUDAD DE BUENOS AIRES</td>\n",
       "      <td>INSTITUTO SAN CAYETANO</td>\n",
       "      <td>VIDAL 1743 BELGRANO</td>\n",
       "      <td>C1426</td>\n",
       "      <td>011</td>\n",
       "      <td>...</td>\n",
       "      <td>NaN</td>\n",
       "      <td>NaN</td>\n",
       "      <td>NaN</td>\n",
       "      <td>NaN</td>\n",
       "      <td>NaN</td>\n",
       "      <td>NaN</td>\n",
       "      <td>NaN</td>\n",
       "      <td>NaN</td>\n",
       "      <td>NaN</td>\n",
       "      <td></td>\n",
       "    </tr>\n",
       "    <tr>\n",
       "      <th>3</th>\n",
       "      <td>Ciudad de Buenos Aires</td>\n",
       "      <td>Privado</td>\n",
       "      <td>Urbano</td>\n",
       "      <td>Comuna 13</td>\n",
       "      <td>2113</td>\n",
       "      <td>CIUDAD DE BUENOS AIRES</td>\n",
       "      <td>INSTITUTO NUESTRA SEÑORA DEL ROSARIO</td>\n",
       "      <td>CIUDAD DE LA PAZ 1839 BELGRANO</td>\n",
       "      <td>C1428</td>\n",
       "      <td>011</td>\n",
       "      <td>...</td>\n",
       "      <td>NaN</td>\n",
       "      <td>NaN</td>\n",
       "      <td>NaN</td>\n",
       "      <td>NaN</td>\n",
       "      <td>NaN</td>\n",
       "      <td>NaN</td>\n",
       "      <td>NaN</td>\n",
       "      <td>NaN</td>\n",
       "      <td>NaN</td>\n",
       "      <td></td>\n",
       "    </tr>\n",
       "    <tr>\n",
       "      <th>4</th>\n",
       "      <td>Ciudad de Buenos Aires</td>\n",
       "      <td>Privado</td>\n",
       "      <td>Urbano</td>\n",
       "      <td>Comuna 9</td>\n",
       "      <td>2109</td>\n",
       "      <td>CIUDAD DE BUENOS AIRES</td>\n",
       "      <td>INSTITUTO NTRA SEÑORA DE LUJAN DE LOS PATRIOTAS</td>\n",
       "      <td>AVDA. EMILIO CASTRO 7142 MATADEROS</td>\n",
       "      <td>C1408</td>\n",
       "      <td>011</td>\n",
       "      <td>...</td>\n",
       "      <td>NaN</td>\n",
       "      <td>NaN</td>\n",
       "      <td>NaN</td>\n",
       "      <td>NaN</td>\n",
       "      <td>NaN</td>\n",
       "      <td>NaN</td>\n",
       "      <td>NaN</td>\n",
       "      <td>NaN</td>\n",
       "      <td>NaN</td>\n",
       "      <td></td>\n",
       "    </tr>\n",
       "    <tr>\n",
       "      <th>11</th>\n",
       "      <td>Ciudad de Buenos Aires</td>\n",
       "      <td>Privado</td>\n",
       "      <td>Urbano</td>\n",
       "      <td>Comuna 13</td>\n",
       "      <td>2113</td>\n",
       "      <td>CIUDAD DE BUENOS AIRES</td>\n",
       "      <td>ESCUELA DE LA ALDEA</td>\n",
       "      <td>NUÑEZ 2776 NUÑEZ</td>\n",
       "      <td>C1429</td>\n",
       "      <td>011</td>\n",
       "      <td>...</td>\n",
       "      <td>NaN</td>\n",
       "      <td>NaN</td>\n",
       "      <td>NaN</td>\n",
       "      <td>NaN</td>\n",
       "      <td>NaN</td>\n",
       "      <td>NaN</td>\n",
       "      <td>NaN</td>\n",
       "      <td>NaN</td>\n",
       "      <td>NaN</td>\n",
       "      <td></td>\n",
       "    </tr>\n",
       "  </tbody>\n",
       "</table>\n",
       "<p>5 rows × 29 columns</p>\n",
       "</div>"
      ],
      "text/plain": [
       "              Jurisdicción   Sector  Ámbito Departamento  \\\n",
       "0   Ciudad de Buenos Aires  Privado  Urbano     Comuna 4   \n",
       "2   Ciudad de Buenos Aires  Privado  Urbano    Comuna 13   \n",
       "3   Ciudad de Buenos Aires  Privado  Urbano    Comuna 13   \n",
       "4   Ciudad de Buenos Aires  Privado  Urbano     Comuna 9   \n",
       "11  Ciudad de Buenos Aires  Privado  Urbano    Comuna 13   \n",
       "\n",
       "    Código de departamento               Localidad  \\\n",
       "0                     2104  CIUDAD DE BUENOS AIRES   \n",
       "2                     2113  CIUDAD DE BUENOS AIRES   \n",
       "3                     2113  CIUDAD DE BUENOS AIRES   \n",
       "4                     2109  CIUDAD DE BUENOS AIRES   \n",
       "11                    2113  CIUDAD DE BUENOS AIRES   \n",
       "\n",
       "                                               Nombre  \\\n",
       "0   INSTITUTO PRIVADO ESCUELA EVANGELICA WILLIAM C...   \n",
       "2                              INSTITUTO SAN CAYETANO   \n",
       "3                INSTITUTO NUESTRA SEÑORA DEL ROSARIO   \n",
       "4     INSTITUTO NTRA SEÑORA DE LUJAN DE LOS PATRIOTAS   \n",
       "11                                ESCUELA DE LA ALDEA   \n",
       "\n",
       "                              Domicilio Código Postal  \\\n",
       "0                     SUÁREZ  684 BOCA          C1162   \n",
       "2                  VIDAL 1743 BELGRANO          C1426   \n",
       "3       CIUDAD DE LA PAZ 1839 BELGRANO          C1428   \n",
       "4   AVDA. EMILIO CASTRO 7142 MATADEROS          C1408   \n",
       "11                    NUÑEZ 2776 NUÑEZ          C1429   \n",
       "\n",
       "   Código de área telefónico  ... EC_Secundaria Técnica (INET)  \\\n",
       "0                        011  ...                          NaN   \n",
       "2                        011  ...                          NaN   \n",
       "3                        011  ...                          NaN   \n",
       "4                        011  ...                          NaN   \n",
       "11                       011  ...                          NaN   \n",
       "\n",
       "   EC_Superior no Universitario  EC_Superior No Universitario (INET)  \\\n",
       "0                           NaN                                  NaN   \n",
       "2                           NaN                                  NaN   \n",
       "3                           NaN                                  NaN   \n",
       "4                           NaN                                  NaN   \n",
       "11                          NaN                                  NaN   \n",
       "\n",
       "    EJA_Primaria  EJA_EGB3  EJA_Secundaria  EJA_Alfabetización  \\\n",
       "0            NaN       NaN             NaN                 NaN   \n",
       "2            NaN       NaN             NaN                 NaN   \n",
       "3            NaN       NaN             NaN                 NaN   \n",
       "4            NaN       NaN             NaN                 NaN   \n",
       "11           NaN       NaN             NaN                 NaN   \n",
       "\n",
       "    EJA_Formación Profesional  EJA_Formación Profesional (INET)  \\\n",
       "0                         NaN                               NaN   \n",
       "2                         NaN                               NaN   \n",
       "3                         NaN                               NaN   \n",
       "4                         NaN                               NaN   \n",
       "11                        NaN                               NaN   \n",
       "\n",
       "    FORMA_PARTE_DE_DH?  \n",
       "0                       \n",
       "2                       \n",
       "3                       \n",
       "4                       \n",
       "11                      \n",
       "\n",
       "[5 rows x 29 columns]"
      ]
     },
     "execution_count": 738,
     "metadata": {},
     "output_type": "execute_result"
    }
   ],
   "source": [
    "dataUrbPrivados.head()"
   ]
  },
  {
   "cell_type": "code",
   "execution_count": 739,
   "metadata": {},
   "outputs": [],
   "source": [
    "# Leemos el archivo .csv (Latitudes y Longitudes)\n",
    "dataCoordenadas = pd.read_csv(ruta+r\"\\localidad_bahra.csv\")"
   ]
  },
  {
   "cell_type": "code",
   "execution_count": 740,
   "metadata": {},
   "outputs": [
    {
     "data": {
      "text/html": [
       "<div>\n",
       "<style scoped>\n",
       "    .dataframe tbody tr th:only-of-type {\n",
       "        vertical-align: middle;\n",
       "    }\n",
       "\n",
       "    .dataframe tbody tr th {\n",
       "        vertical-align: top;\n",
       "    }\n",
       "\n",
       "    .dataframe thead th {\n",
       "        text-align: right;\n",
       "    }\n",
       "</style>\n",
       "<table border=\"1\" class=\"dataframe\">\n",
       "  <thead>\n",
       "    <tr style=\"text-align: right;\">\n",
       "      <th></th>\n",
       "      <th>gid</th>\n",
       "      <th>geom</th>\n",
       "      <th>cod_pcia</th>\n",
       "      <th>nom_pcia</th>\n",
       "      <th>cod_depto</th>\n",
       "      <th>nom_depto</th>\n",
       "      <th>cod_ase</th>\n",
       "      <th>fna</th>\n",
       "      <th>tipo_asent</th>\n",
       "      <th>cod_aglo</th>\n",
       "      <th>nom_aglo</th>\n",
       "      <th>cod_agl</th>\n",
       "      <th>nom_agl</th>\n",
       "      <th>lat_gd</th>\n",
       "      <th>long_gd</th>\n",
       "      <th>lat_gs</th>\n",
       "      <th>long_gs</th>\n",
       "      <th>fdc</th>\n",
       "    </tr>\n",
       "  </thead>\n",
       "  <tbody>\n",
       "    <tr>\n",
       "      <th>0</th>\n",
       "      <td>2555</td>\n",
       "      <td>MULTIPOINT(-60.3448580643218 -38.8948939829726)</td>\n",
       "      <td>6</td>\n",
       "      <td>Buenos Aires</td>\n",
       "      <td>06833</td>\n",
       "      <td>Tres Arroyos</td>\n",
       "      <td>6833070</td>\n",
       "      <td>Reta</td>\n",
       "      <td>Localidad simple</td>\n",
       "      <td>2086.0</td>\n",
       "      <td>Reta</td>\n",
       "      <td>060833</td>\n",
       "      <td>Tres Arroyos</td>\n",
       "      <td>-38.894894</td>\n",
       "      <td>-60.344858</td>\n",
       "      <td>-38º53'42\"</td>\n",
       "      <td>-60º20'41\"</td>\n",
       "      <td>INDEC</td>\n",
       "    </tr>\n",
       "    <tr>\n",
       "      <th>1</th>\n",
       "      <td>3528</td>\n",
       "      <td>MULTIPOINT(-63.9060666446281 -33.0447614488897)</td>\n",
       "      <td>14</td>\n",
       "      <td>Córdoba</td>\n",
       "      <td>14056</td>\n",
       "      <td>Juárez Celman</td>\n",
       "      <td>14056120</td>\n",
       "      <td>Olaeta</td>\n",
       "      <td>Localidad simple</td>\n",
       "      <td>2306.0</td>\n",
       "      <td>Olaeta</td>\n",
       "      <td>140448</td>\n",
       "      <td>Olaeta</td>\n",
       "      <td>-33.044761</td>\n",
       "      <td>-63.906067</td>\n",
       "      <td>-33º 2'41\"</td>\n",
       "      <td>-63º54'22\"</td>\n",
       "      <td>INDEC</td>\n",
       "    </tr>\n",
       "    <tr>\n",
       "      <th>2</th>\n",
       "      <td>4671</td>\n",
       "      <td>MULTIPOINT(-58.2868656335838 -28.3081359127144)</td>\n",
       "      <td>18</td>\n",
       "      <td>Corrientes</td>\n",
       "      <td>18028</td>\n",
       "      <td>Concepción</td>\n",
       "      <td>18028030</td>\n",
       "      <td>Tabay</td>\n",
       "      <td>Localidad simple</td>\n",
       "      <td>2511.0</td>\n",
       "      <td>Tabay</td>\n",
       "      <td>180049</td>\n",
       "      <td>Tabay</td>\n",
       "      <td>-28.308136</td>\n",
       "      <td>-58.286866</td>\n",
       "      <td>-28º18'29\"</td>\n",
       "      <td>-58º17'13\"</td>\n",
       "      <td>INDEC</td>\n",
       "    </tr>\n",
       "  </tbody>\n",
       "</table>\n",
       "</div>"
      ],
      "text/plain": [
       "    gid                                             geom  cod_pcia  \\\n",
       "0  2555  MULTIPOINT(-60.3448580643218 -38.8948939829726)         6   \n",
       "1  3528  MULTIPOINT(-63.9060666446281 -33.0447614488897)        14   \n",
       "2  4671  MULTIPOINT(-58.2868656335838 -28.3081359127144)        18   \n",
       "\n",
       "       nom_pcia cod_depto      nom_depto   cod_ase     fna        tipo_asent  \\\n",
       "0  Buenos Aires     06833   Tres Arroyos   6833070    Reta  Localidad simple   \n",
       "1       Córdoba     14056  Juárez Celman  14056120  Olaeta  Localidad simple   \n",
       "2    Corrientes     18028     Concepción  18028030   Tabay  Localidad simple   \n",
       "\n",
       "   cod_aglo nom_aglo cod_agl       nom_agl     lat_gd    long_gd      lat_gs  \\\n",
       "0    2086.0     Reta  060833  Tres Arroyos -38.894894 -60.344858  -38º53'42\"   \n",
       "1    2306.0   Olaeta  140448        Olaeta -33.044761 -63.906067  -33º 2'41\"   \n",
       "2    2511.0    Tabay  180049         Tabay -28.308136 -58.286866  -28º18'29\"   \n",
       "\n",
       "      long_gs    fdc  \n",
       "0  -60º20'41\"  INDEC  \n",
       "1  -63º54'22\"  INDEC  \n",
       "2  -58º17'13\"  INDEC  "
      ]
     },
     "execution_count": 740,
     "metadata": {},
     "output_type": "execute_result"
    }
   ],
   "source": [
    "dataCoordenadas.head(3)"
   ]
  },
  {
   "cell_type": "code",
   "execution_count": 741,
   "metadata": {},
   "outputs": [
    {
     "data": {
      "text/plain": [
       "(3528, 18)"
      ]
     },
     "execution_count": 741,
     "metadata": {},
     "output_type": "execute_result"
    }
   ],
   "source": [
    "dataCoordenadas.shape"
   ]
  },
  {
   "cell_type": "code",
   "execution_count": 742,
   "metadata": {},
   "outputs": [
    {
     "data": {
      "text/html": [
       "<div>\n",
       "<style scoped>\n",
       "    .dataframe tbody tr th:only-of-type {\n",
       "        vertical-align: middle;\n",
       "    }\n",
       "\n",
       "    .dataframe tbody tr th {\n",
       "        vertical-align: top;\n",
       "    }\n",
       "\n",
       "    .dataframe thead th {\n",
       "        text-align: right;\n",
       "    }\n",
       "</style>\n",
       "<table border=\"1\" class=\"dataframe\">\n",
       "  <thead>\n",
       "    <tr style=\"text-align: right;\">\n",
       "      <th></th>\n",
       "      <th>Columna_A</th>\n",
       "    </tr>\n",
       "  </thead>\n",
       "  <tbody>\n",
       "    <tr>\n",
       "      <th>0</th>\n",
       "      <td>2104</td>\n",
       "    </tr>\n",
       "    <tr>\n",
       "      <th>1</th>\n",
       "      <td>2113</td>\n",
       "    </tr>\n",
       "    <tr>\n",
       "      <th>2</th>\n",
       "      <td>2109</td>\n",
       "    </tr>\n",
       "    <tr>\n",
       "      <th>3</th>\n",
       "      <td>2102</td>\n",
       "    </tr>\n",
       "    <tr>\n",
       "      <th>4</th>\n",
       "      <td>2101</td>\n",
       "    </tr>\n",
       "    <tr>\n",
       "      <th>...</th>\n",
       "      <td>...</td>\n",
       "    </tr>\n",
       "    <tr>\n",
       "      <th>393</th>\n",
       "      <td>90091</td>\n",
       "    </tr>\n",
       "    <tr>\n",
       "      <th>394</th>\n",
       "      <td>90035</td>\n",
       "    </tr>\n",
       "    <tr>\n",
       "      <th>395</th>\n",
       "      <td>90098</td>\n",
       "    </tr>\n",
       "    <tr>\n",
       "      <th>396</th>\n",
       "      <td>94007</td>\n",
       "    </tr>\n",
       "    <tr>\n",
       "      <th>397</th>\n",
       "      <td>94014</td>\n",
       "    </tr>\n",
       "  </tbody>\n",
       "</table>\n",
       "<p>398 rows × 1 columns</p>\n",
       "</div>"
      ],
      "text/plain": [
       "     Columna_A\n",
       "0         2104\n",
       "1         2113\n",
       "2         2109\n",
       "3         2102\n",
       "4         2101\n",
       "..         ...\n",
       "393      90091\n",
       "394      90035\n",
       "395      90098\n",
       "396      94007\n",
       "397      94014\n",
       "\n",
       "[398 rows x 1 columns]"
      ]
     },
     "execution_count": 742,
     "metadata": {},
     "output_type": "execute_result"
    }
   ],
   "source": [
    "valores_unicos = dataUrbPrivados[\"Código de departamento\"].unique()\n",
    "\n",
    "# Crear un DataFrame a partir del array de valores únicos\n",
    "df_valores_unicos = pd.DataFrame({'Columna_A': valores_unicos})\n",
    "\n",
    "# Ver el DataFrame resultante\n",
    "df_valores_unicos\n"
   ]
  },
  {
   "cell_type": "code",
   "execution_count": 743,
   "metadata": {},
   "outputs": [
    {
     "name": "stdout",
     "output_type": "stream",
     "text": [
      "<class 'pandas.core.frame.DataFrame'>\n",
      "RangeIndex: 3528 entries, 0 to 3527\n",
      "Data columns (total 18 columns):\n",
      " #   Column      Non-Null Count  Dtype  \n",
      "---  ------      --------------  -----  \n",
      " 0   gid         3528 non-null   int64  \n",
      " 1   geom        3528 non-null   object \n",
      " 2   cod_pcia    3528 non-null   int64  \n",
      " 3   nom_pcia    3528 non-null   object \n",
      " 4   cod_depto   3528 non-null   object \n",
      " 5   nom_depto   3528 non-null   object \n",
      " 6   cod_ase     3528 non-null   int64  \n",
      " 7   fna         3528 non-null   object \n",
      " 8   tipo_asent  3528 non-null   object \n",
      " 9   cod_aglo    3527 non-null   float64\n",
      " 10  nom_aglo    3522 non-null   object \n",
      " 11  cod_agl     3528 non-null   object \n",
      " 12  nom_agl     3528 non-null   object \n",
      " 13  lat_gd      3528 non-null   float64\n",
      " 14  long_gd     3528 non-null   float64\n",
      " 15  lat_gs      3528 non-null   object \n",
      " 16  long_gs     3527 non-null   object \n",
      " 17  fdc         3528 non-null   object \n",
      "dtypes: float64(3), int64(3), object(12)\n",
      "memory usage: 496.2+ KB\n"
     ]
    }
   ],
   "source": [
    "dataCoordenadas.info()"
   ]
  },
  {
   "cell_type": "code",
   "execution_count": 744,
   "metadata": {},
   "outputs": [
    {
     "name": "stdout",
     "output_type": "stream",
     "text": [
      "<class 'pandas.core.frame.DataFrame'>\n",
      "RangeIndex: 398 entries, 0 to 397\n",
      "Data columns (total 1 columns):\n",
      " #   Column     Non-Null Count  Dtype\n",
      "---  ------     --------------  -----\n",
      " 0   Columna_A  398 non-null    int64\n",
      "dtypes: int64(1)\n",
      "memory usage: 3.2 KB\n"
     ]
    }
   ],
   "source": [
    "df_valores_unicos.info()"
   ]
  },
  {
   "cell_type": "code",
   "execution_count": 745,
   "metadata": {},
   "outputs": [
    {
     "data": {
      "text/plain": [
       "2101     1\n",
       "2102     1\n",
       "2103     1\n",
       "2104     1\n",
       "2105     1\n",
       "        ..\n",
       "90105    1\n",
       "90112    1\n",
       "90119    1\n",
       "94007    1\n",
       "94014    1\n",
       "Name: Columna_A, Length: 398, dtype: int64"
      ]
     },
     "execution_count": 745,
     "metadata": {},
     "output_type": "execute_result"
    }
   ],
   "source": [
    "df_valores_unicos['Columna_A'].value_counts().sort_index()"
   ]
  },
  {
   "cell_type": "code",
   "execution_count": 746,
   "metadata": {},
   "outputs": [
    {
     "data": {
      "text/html": [
       "<div>\n",
       "<style scoped>\n",
       "    .dataframe tbody tr th:only-of-type {\n",
       "        vertical-align: middle;\n",
       "    }\n",
       "\n",
       "    .dataframe tbody tr th {\n",
       "        vertical-align: top;\n",
       "    }\n",
       "\n",
       "    .dataframe thead th {\n",
       "        text-align: right;\n",
       "    }\n",
       "</style>\n",
       "<table border=\"1\" class=\"dataframe\">\n",
       "  <thead>\n",
       "    <tr style=\"text-align: right;\">\n",
       "      <th></th>\n",
       "      <th>Columna_A</th>\n",
       "    </tr>\n",
       "  </thead>\n",
       "  <tbody>\n",
       "    <tr>\n",
       "      <th>0</th>\n",
       "      <td>02104</td>\n",
       "    </tr>\n",
       "    <tr>\n",
       "      <th>1</th>\n",
       "      <td>02113</td>\n",
       "    </tr>\n",
       "    <tr>\n",
       "      <th>2</th>\n",
       "      <td>02109</td>\n",
       "    </tr>\n",
       "    <tr>\n",
       "      <th>3</th>\n",
       "      <td>02102</td>\n",
       "    </tr>\n",
       "    <tr>\n",
       "      <th>4</th>\n",
       "      <td>02101</td>\n",
       "    </tr>\n",
       "  </tbody>\n",
       "</table>\n",
       "</div>"
      ],
      "text/plain": [
       "  Columna_A\n",
       "0     02104\n",
       "1     02113\n",
       "2     02109\n",
       "3     02102\n",
       "4     02101"
      ]
     },
     "execution_count": 746,
     "metadata": {},
     "output_type": "execute_result"
    }
   ],
   "source": [
    "# Convierte la columna \"Columna_A\" a tipo str\n",
    "df_valores_unicos['Columna_A'] = df_valores_unicos['Columna_A'].astype(str)\n",
    "\n",
    "# Aplica una función para agregar \"0\" a los valores con 4 dígitos\n",
    "df_valores_unicos['Columna_A'] = df_valores_unicos['Columna_A'].apply(lambda x: '0' + x if len(x) == 4 else x)\n",
    "df_valores_unicos.head()"
   ]
  },
  {
   "cell_type": "code",
   "execution_count": 747,
   "metadata": {},
   "outputs": [
    {
     "data": {
      "text/plain": [
       "0       02104\n",
       "1       02113\n",
       "2       02109\n",
       "3       02102\n",
       "4       02101\n",
       "        ...  \n",
       "2934    90098\n",
       "2935    94007\n",
       "2936    94007\n",
       "2937    94014\n",
       "2938    94014\n",
       "Name: Columna_A, Length: 2939, dtype: object"
      ]
     },
     "execution_count": 747,
     "metadata": {},
     "output_type": "execute_result"
    }
   ],
   "source": [
    "# Combinar los DataFrames en base a las localidades\n",
    "df_resultado = pd.merge(df_valores_unicos, dataCoordenadas[[\"cod_depto\", \"lat_gd\", \"long_gd\"]],\n",
    "                         left_on='Columna_A', right_on='cod_depto', how=\"left\")\n",
    "\n",
    "# Ver el DataFrame resultante\n",
    "df_resultado[\"Columna_A\"]\n"
   ]
  },
  {
   "cell_type": "code",
   "execution_count": 748,
   "metadata": {},
   "outputs": [
    {
     "name": "stdout",
     "output_type": "stream",
     "text": [
      "<class 'pandas.core.frame.DataFrame'>\n",
      "Int64Index: 8598 entries, 0 to 63996\n",
      "Data columns (total 29 columns):\n",
      " #   Column                               Non-Null Count  Dtype  \n",
      "---  ------                               --------------  -----  \n",
      " 0   Jurisdicción                         8598 non-null   object \n",
      " 1   Sector                               8598 non-null   object \n",
      " 2   Ámbito                               8598 non-null   object \n",
      " 3   Departamento                         8598 non-null   object \n",
      " 4   Código de departamento               8598 non-null   int64  \n",
      " 5   Localidad                            8598 non-null   object \n",
      " 6   Nombre                               8598 non-null   object \n",
      " 7   Domicilio                            8598 non-null   object \n",
      " 8   Código Postal                        8409 non-null   object \n",
      " 9   Código de área telefónico            8316 non-null   object \n",
      " 10  Número de teléfono                   8549 non-null   object \n",
      " 11  Correo elecontrónico                 8248 non-null   object \n",
      " 12  Ed. Común                            8128 non-null   float64\n",
      " 13  Ed. Jóvenes y Adultos                671 non-null    float64\n",
      " 14  Ed. Intercultural Bilingüe           2 non-null      float64\n",
      " 15  EC_Jardín maternal                   403 non-null    float64\n",
      " 16  EC_Inicial                           2087 non-null   float64\n",
      " 17  EC_Primaria                          3914 non-null   float64\n",
      " 18  EC_Secundaria                        3813 non-null   float64\n",
      " 19  EC_Secundaria Técnica (INET)         144 non-null    float64\n",
      " 20  EC_Superior no Universitario         1199 non-null   float64\n",
      " 21  EC_Superior No Universitario (INET)  358 non-null    float64\n",
      " 22  EJA_Primaria                         31 non-null     float64\n",
      " 23  EJA_EGB3                             0 non-null      float64\n",
      " 24  EJA_Secundaria                       212 non-null    float64\n",
      " 25  EJA_Alfabetización                   0 non-null      float64\n",
      " 26  EJA_Formación Profesional            462 non-null    float64\n",
      " 27  EJA_Formación Profesional (INET)     108 non-null    float64\n",
      " 28  FORMA_PARTE_DE_DH?                   8598 non-null   object \n",
      "dtypes: float64(16), int64(1), object(12)\n",
      "memory usage: 2.0+ MB\n"
     ]
    }
   ],
   "source": [
    "dataUrbPrivados.info()"
   ]
  },
  {
   "cell_type": "code",
   "execution_count": 749,
   "metadata": {},
   "outputs": [
    {
     "name": "stderr",
     "output_type": "stream",
     "text": [
      "C:\\Users\\DH\\AppData\\Local\\Temp\\ipykernel_3884\\4126868289.py:2: SettingWithCopyWarning: \n",
      "A value is trying to be set on a copy of a slice from a DataFrame.\n",
      "Try using .loc[row_indexer,col_indexer] = value instead\n",
      "\n",
      "See the caveats in the documentation: https://pandas.pydata.org/pandas-docs/stable/user_guide/indexing.html#returning-a-view-versus-a-copy\n",
      "  dataUrbPrivados['Código de departamento'] = dataUrbPrivados['Código de departamento'].astype(str)\n",
      "C:\\Users\\DH\\AppData\\Local\\Temp\\ipykernel_3884\\4126868289.py:5: SettingWithCopyWarning: \n",
      "A value is trying to be set on a copy of a slice from a DataFrame.\n",
      "Try using .loc[row_indexer,col_indexer] = value instead\n",
      "\n",
      "See the caveats in the documentation: https://pandas.pydata.org/pandas-docs/stable/user_guide/indexing.html#returning-a-view-versus-a-copy\n",
      "  dataUrbPrivados['Código de departamento'] = dataUrbPrivados['Código de departamento'].apply(lambda x: '0' + x if len(x) == 4 else x)\n"
     ]
    }
   ],
   "source": [
    "# Convierte la columna \"Columna_A\" a tipo str\n",
    "dataUrbPrivados['Código de departamento'] = dataUrbPrivados['Código de departamento'].astype(str)\n",
    "\n",
    "# Aplica una función para agregar \"0\" a los valores con 4 dígitos\n",
    "dataUrbPrivados['Código de departamento'] = dataUrbPrivados['Código de departamento'].apply(lambda x: '0' + x if len(x) == 4 else x)\n"
   ]
  },
  {
   "cell_type": "code",
   "execution_count": 750,
   "metadata": {},
   "outputs": [
    {
     "name": "stdout",
     "output_type": "stream",
     "text": [
      "<class 'pandas.core.series.Series'>\n",
      "Int64Index: 8598 entries, 0 to 63996\n",
      "Series name: Código de departamento\n",
      "Non-Null Count  Dtype \n",
      "--------------  ----- \n",
      "8598 non-null   object\n",
      "dtypes: object(1)\n",
      "memory usage: 134.3+ KB\n"
     ]
    }
   ],
   "source": [
    "dataUrbPrivados[\"Código de departamento\"].info()"
   ]
  },
  {
   "cell_type": "code",
   "execution_count": 751,
   "metadata": {},
   "outputs": [
    {
     "data": {
      "text/plain": [
       "(8598, 29)"
      ]
     },
     "execution_count": 751,
     "metadata": {},
     "output_type": "execute_result"
    }
   ],
   "source": [
    "dataUrbPrivados.shape"
   ]
  },
  {
   "cell_type": "code",
   "execution_count": 752,
   "metadata": {},
   "outputs": [
    {
     "name": "stdout",
     "output_type": "stream",
     "text": [
      "Número de filas duplicadas: 0\n"
     ]
    }
   ],
   "source": [
    "# Usar duplicated() para identificar filas duplicadas y sumar los valores True (1)\n",
    "num_duplicados = df_resultado.duplicated().sum()\n",
    "\n",
    "print(f'Número de filas duplicadas: {num_duplicados}')\n"
   ]
  },
  {
   "cell_type": "code",
   "execution_count": 753,
   "metadata": {},
   "outputs": [
    {
     "name": "stdout",
     "output_type": "stream",
     "text": [
      "<class 'pandas.core.frame.DataFrame'>\n",
      "RangeIndex: 15 entries, 0 to 14\n",
      "Data columns (total 7 columns):\n",
      " #   Column     Non-Null Count  Dtype  \n",
      "---  ------     --------------  -----  \n",
      " 0   WKT        15 non-null     object \n",
      " 1   ID         15 non-null     int64  \n",
      " 2   OBJETO     15 non-null     object \n",
      " 3   COMUNAS    15 non-null     float64\n",
      " 4   BARRIOS    15 non-null     object \n",
      " 5   PERIMETRO  15 non-null     float64\n",
      " 6   AREA       15 non-null     float64\n",
      "dtypes: float64(3), int64(1), object(3)\n",
      "memory usage: 968.0+ bytes\n"
     ]
    }
   ],
   "source": [
    "# Leemos el archivo .csv (Latitudes y Longitudes)\n",
    "dataDeptos = pd.read_csv(ruta+r\"\\comunas (1).csv\", sep=\";\")\n",
    "dataDeptos.info()"
   ]
  },
  {
   "cell_type": "code",
   "execution_count": 754,
   "metadata": {},
   "outputs": [
    {
     "data": {
      "text/plain": [
       "0    -58.3800038855693\n",
       "1    -58.4306058283309\n",
       "2    -58.4883373673246\n",
       "3    -58.498384839883 \n",
       "4    -58.5033113250844\n",
       "Name: long, dtype: object"
      ]
     },
     "execution_count": 754,
     "metadata": {},
     "output_type": "execute_result"
    }
   ],
   "source": [
    "dataDeptos[\"long\"] = dataDeptos[\"WKT\"].str.slice(16, 33)\n",
    "dataDeptos[\"long\"].head()"
   ]
  },
  {
   "cell_type": "code",
   "execution_count": 755,
   "metadata": {},
   "outputs": [
    {
     "data": {
      "text/plain": [
       "0     -34.5700235247202\n",
       "1     -34.6070470885963\n",
       "2     -34.6201603572932\n",
       "3    -34.5963676568872,\n",
       "4     -34.5938561595894\n",
       "Name: lat, dtype: object"
      ]
     },
     "execution_count": 755,
     "metadata": {},
     "output_type": "execute_result"
    }
   ],
   "source": [
    "dataDeptos[\"lat\"] = dataDeptos[\"WKT\"].str.slice(33, 51)\n",
    "dataDeptos[\"lat\"].head()"
   ]
  },
  {
   "cell_type": "code",
   "execution_count": 756,
   "metadata": {},
   "outputs": [],
   "source": [
    "# Eliminar los espacios en blanco al principio y al final de la columna 'Texto'\n",
    "dataDeptos['lat'] = dataDeptos['lat'].str.replace(' ', '')\n",
    "dataDeptos['lat'] = dataDeptos['lat'].str.replace(',', '')\n",
    "dataDeptos['long'] = dataDeptos['long'].str.replace(',', '')\n",
    "dataDeptos['long'] = dataDeptos['long'].str.replace(' ', '')"
   ]
  },
  {
   "cell_type": "code",
   "execution_count": 757,
   "metadata": {},
   "outputs": [
    {
     "data": {
      "text/plain": [
       "0    -34.5700235247202\n",
       "1    -34.6070470885963\n",
       "2    -34.6201603572932\n",
       "3    -34.5963676568872\n",
       "4    -34.5938561595894\n",
       "Name: lat, dtype: object"
      ]
     },
     "execution_count": 757,
     "metadata": {},
     "output_type": "execute_result"
    }
   ],
   "source": [
    "dataDeptos[\"lat\"].head()"
   ]
  },
  {
   "cell_type": "code",
   "execution_count": 758,
   "metadata": {},
   "outputs": [
    {
     "data": {
      "text/html": [
       "<div>\n",
       "<style scoped>\n",
       "    .dataframe tbody tr th:only-of-type {\n",
       "        vertical-align: middle;\n",
       "    }\n",
       "\n",
       "    .dataframe tbody tr th {\n",
       "        vertical-align: top;\n",
       "    }\n",
       "\n",
       "    .dataframe thead th {\n",
       "        text-align: right;\n",
       "    }\n",
       "</style>\n",
       "<table border=\"1\" class=\"dataframe\">\n",
       "  <thead>\n",
       "    <tr style=\"text-align: right;\">\n",
       "      <th></th>\n",
       "      <th>COMUNAS</th>\n",
       "      <th>lat</th>\n",
       "      <th>long</th>\n",
       "    </tr>\n",
       "  </thead>\n",
       "  <tbody>\n",
       "    <tr>\n",
       "      <th>14</th>\n",
       "      <td>Comuna 1</td>\n",
       "      <td>-34.5736500693969</td>\n",
       "      <td>-58.3685405568825</td>\n",
       "    </tr>\n",
       "    <tr>\n",
       "      <th>0</th>\n",
       "      <td>Comuna 2</td>\n",
       "      <td>-34.5700235247202</td>\n",
       "      <td>-58.3800038855693</td>\n",
       "    </tr>\n",
       "    <tr>\n",
       "      <th>11</th>\n",
       "      <td>Comuna 3</td>\n",
       "      <td>-34.5980030767748</td>\n",
       "      <td>-58.4119188098038</td>\n",
       "    </tr>\n",
       "    <tr>\n",
       "      <th>8</th>\n",
       "      <td>Comuna 4</td>\n",
       "      <td>-34.6337312154708</td>\n",
       "      <td>-58.3886402930729</td>\n",
       "    </tr>\n",
       "    <tr>\n",
       "      <th>9</th>\n",
       "      <td>Comuna 5</td>\n",
       "      <td>-34.6026734568798</td>\n",
       "      <td>-58.4333340897605</td>\n",
       "    </tr>\n",
       "  </tbody>\n",
       "</table>\n",
       "</div>"
      ],
      "text/plain": [
       "     COMUNAS                lat               long\n",
       "14  Comuna 1  -34.5736500693969  -58.3685405568825\n",
       "0   Comuna 2  -34.5700235247202  -58.3800038855693\n",
       "11  Comuna 3  -34.5980030767748  -58.4119188098038\n",
       "8   Comuna 4  -34.6337312154708  -58.3886402930729\n",
       "9   Comuna 5  -34.6026734568798  -58.4333340897605"
      ]
     },
     "execution_count": 758,
     "metadata": {},
     "output_type": "execute_result"
    }
   ],
   "source": [
    "dataDeptos = dataDeptos.sort_values(by='COMUNAS', ascending=True)\n",
    "dataDeptos[\"COMUNAS\"] = dataDeptos[\"COMUNAS\"].astype(int)\n",
    "dataDeptos[\"COMUNAS\"] = 'Comuna ' + dataDeptos[\"COMUNAS\"].astype(str)\n",
    "dataDeptos[['COMUNAS', 'lat', 'long']].head()"
   ]
  },
  {
   "cell_type": "code",
   "execution_count": 759,
   "metadata": {},
   "outputs": [
    {
     "data": {
      "text/html": [
       "<div>\n",
       "<style scoped>\n",
       "    .dataframe tbody tr th:only-of-type {\n",
       "        vertical-align: middle;\n",
       "    }\n",
       "\n",
       "    .dataframe tbody tr th {\n",
       "        vertical-align: top;\n",
       "    }\n",
       "\n",
       "    .dataframe thead th {\n",
       "        text-align: right;\n",
       "    }\n",
       "</style>\n",
       "<table border=\"1\" class=\"dataframe\">\n",
       "  <thead>\n",
       "    <tr style=\"text-align: right;\">\n",
       "      <th></th>\n",
       "      <th>COMUNAS</th>\n",
       "      <th>cod_depto</th>\n",
       "      <th>lat</th>\n",
       "      <th>long</th>\n",
       "    </tr>\n",
       "  </thead>\n",
       "  <tbody>\n",
       "    <tr>\n",
       "      <th>14</th>\n",
       "      <td>Comuna 1</td>\n",
       "      <td>02101</td>\n",
       "      <td>-34.5736500693969</td>\n",
       "      <td>-58.3685405568825</td>\n",
       "    </tr>\n",
       "    <tr>\n",
       "      <th>0</th>\n",
       "      <td>Comuna 2</td>\n",
       "      <td>02102</td>\n",
       "      <td>-34.5700235247202</td>\n",
       "      <td>-58.3800038855693</td>\n",
       "    </tr>\n",
       "    <tr>\n",
       "      <th>11</th>\n",
       "      <td>Comuna 3</td>\n",
       "      <td>02103</td>\n",
       "      <td>-34.5980030767748</td>\n",
       "      <td>-58.4119188098038</td>\n",
       "    </tr>\n",
       "    <tr>\n",
       "      <th>8</th>\n",
       "      <td>Comuna 4</td>\n",
       "      <td>02104</td>\n",
       "      <td>-34.6337312154708</td>\n",
       "      <td>-58.3886402930729</td>\n",
       "    </tr>\n",
       "    <tr>\n",
       "      <th>9</th>\n",
       "      <td>Comuna 5</td>\n",
       "      <td>02105</td>\n",
       "      <td>-34.6026734568798</td>\n",
       "      <td>-58.4333340897605</td>\n",
       "    </tr>\n",
       "    <tr>\n",
       "      <th>1</th>\n",
       "      <td>Comuna 6</td>\n",
       "      <td>02106</td>\n",
       "      <td>-34.6070470885963</td>\n",
       "      <td>-58.4306058283309</td>\n",
       "    </tr>\n",
       "    <tr>\n",
       "      <th>10</th>\n",
       "      <td>Comuna 7</td>\n",
       "      <td>02107</td>\n",
       "      <td>-34.6568064568917</td>\n",
       "      <td>-58.4604018719539</td>\n",
       "    </tr>\n",
       "    <tr>\n",
       "      <th>13</th>\n",
       "      <td>Comuna 8</td>\n",
       "      <td>02108</td>\n",
       "      <td>-34.6568064568917</td>\n",
       "      <td>-58.4604018719539</td>\n",
       "    </tr>\n",
       "    <tr>\n",
       "      <th>12</th>\n",
       "      <td>Comuna 9</td>\n",
       "      <td>02109</td>\n",
       "      <td>-34.6745061867358</td>\n",
       "      <td>-58.502521732609</td>\n",
       "    </tr>\n",
       "    <tr>\n",
       "      <th>2</th>\n",
       "      <td>Comuna 10</td>\n",
       "      <td>02110</td>\n",
       "      <td>-34.6201603572932</td>\n",
       "      <td>-58.4883373673246</td>\n",
       "    </tr>\n",
       "    <tr>\n",
       "      <th>3</th>\n",
       "      <td>Comuna 11</td>\n",
       "      <td>02111</td>\n",
       "      <td>-34.5963676568872</td>\n",
       "      <td>-58.498384839883</td>\n",
       "    </tr>\n",
       "    <tr>\n",
       "      <th>4</th>\n",
       "      <td>Comuna 12</td>\n",
       "      <td>02112</td>\n",
       "      <td>-34.5938561595894</td>\n",
       "      <td>-58.5033113250844</td>\n",
       "    </tr>\n",
       "    <tr>\n",
       "      <th>7</th>\n",
       "      <td>Comuna 13</td>\n",
       "      <td>02113</td>\n",
       "      <td>-34.5402243475673</td>\n",
       "      <td>-58.4403311131044</td>\n",
       "    </tr>\n",
       "    <tr>\n",
       "      <th>5</th>\n",
       "      <td>Comuna 14</td>\n",
       "      <td>02114</td>\n",
       "      <td>-34.5520233734028</td>\n",
       "      <td>-58.4267593172764</td>\n",
       "    </tr>\n",
       "    <tr>\n",
       "      <th>6</th>\n",
       "      <td>Comuna 15</td>\n",
       "      <td>02115</td>\n",
       "      <td>-34.5966140637672</td>\n",
       "      <td>-58.4260240564076</td>\n",
       "    </tr>\n",
       "  </tbody>\n",
       "</table>\n",
       "</div>"
      ],
      "text/plain": [
       "      COMUNAS cod_depto                lat               long\n",
       "14   Comuna 1     02101  -34.5736500693969  -58.3685405568825\n",
       "0    Comuna 2     02102  -34.5700235247202  -58.3800038855693\n",
       "11   Comuna 3     02103  -34.5980030767748  -58.4119188098038\n",
       "8    Comuna 4     02104  -34.6337312154708  -58.3886402930729\n",
       "9    Comuna 5     02105  -34.6026734568798  -58.4333340897605\n",
       "1    Comuna 6     02106  -34.6070470885963  -58.4306058283309\n",
       "10   Comuna 7     02107  -34.6568064568917  -58.4604018719539\n",
       "13   Comuna 8     02108  -34.6568064568917  -58.4604018719539\n",
       "12   Comuna 9     02109  -34.6745061867358   -58.502521732609\n",
       "2   Comuna 10     02110  -34.6201603572932  -58.4883373673246\n",
       "3   Comuna 11     02111  -34.5963676568872   -58.498384839883\n",
       "4   Comuna 12     02112  -34.5938561595894  -58.5033113250844\n",
       "7   Comuna 13     02113  -34.5402243475673  -58.4403311131044\n",
       "5   Comuna 14     02114  -34.5520233734028  -58.4267593172764\n",
       "6   Comuna 15     02115  -34.5966140637672  -58.4260240564076"
      ]
     },
     "execution_count": 759,
     "metadata": {},
     "output_type": "execute_result"
    }
   ],
   "source": [
    "dic = {\n",
    "    \"Comuna 1\": \"02101\",\n",
    "    \"Comuna 2\": \"02102\",\n",
    "    \"Comuna 3\": \"02103\",\n",
    "    \"Comuna 4\": \"02104\",\n",
    "    \"Comuna 5\": \"02105\",\n",
    "    \"Comuna 6\": \"02106\",\n",
    "    \"Comuna 7\": \"02107\",\n",
    "    \"Comuna 8\": \"02108\",\n",
    "    \"Comuna 9\": \"02109\",\n",
    "    \"Comuna 10\": \"02110\",\n",
    "    \"Comuna 11\": \"02111\",\n",
    "    \"Comuna 12\": \"02112\",\n",
    "    \"Comuna 13\": \"02113\",\n",
    "    \"Comuna 14\": \"02114\",\n",
    "    \"Comuna 15\": \"02115\"\n",
    "}\n",
    "\n",
    "# Mapear la columna \"Comuna\" usando el diccionario y crear una nueva columna \"codigo\"\n",
    "dataDeptos['cod_depto'] = dataDeptos['COMUNAS'].map(dic)\n",
    "dataDeptos[['COMUNAS', 'cod_depto', 'lat', 'long']]"
   ]
  },
  {
   "cell_type": "code",
   "execution_count": 760,
   "metadata": {},
   "outputs": [
    {
     "data": {
      "text/plain": [
       "Index(['Columna_A', 'cod_depto', 'lat_gd', 'long_gd'], dtype='object')"
      ]
     },
     "execution_count": 760,
     "metadata": {},
     "output_type": "execute_result"
    }
   ],
   "source": [
    "df_resultado.columns"
   ]
  },
  {
   "cell_type": "code",
   "execution_count": 761,
   "metadata": {},
   "outputs": [
    {
     "name": "stdout",
     "output_type": "stream",
     "text": [
      "<class 'pandas.core.frame.DataFrame'>\n",
      "Int64Index: 2939 entries, 0 to 2938\n",
      "Data columns (total 4 columns):\n",
      " #   Column     Non-Null Count  Dtype \n",
      "---  ------     --------------  ----- \n",
      " 0   Columna_A  2939 non-null   object\n",
      " 1   cod_depto  2939 non-null   object\n",
      " 2   lat_gd     2939 non-null   object\n",
      " 3   long_gd    2939 non-null   object\n",
      "dtypes: object(4)\n",
      "memory usage: 114.8+ KB\n"
     ]
    }
   ],
   "source": [
    "# Crea un diccionario de mapeo usando el DataFrame df_coordenadas\n",
    "mapeo_latitud = dataDeptos.set_index('cod_depto')['lat'].to_dict()\n",
    "mapeo_longitud = dataDeptos.set_index('cod_depto')['long'].to_dict()\n",
    "\n",
    "# # Agrega las columnas 'Latitud' y 'Longitud' al DataFrame df_departamentos\n",
    "# df_resultado['lat_gd'] = df_resultado['Columna_A'].map(mapeo_latitud)\n",
    "# df_resultado['long_gd'] = df_resultado['Columna_A'].map(mapeo_longitud)\n",
    "# df_resultado['cod_depto'] = df_resultado['Columna_A'].map(mapeo_codigo)\n",
    "\n",
    "# Aplica el mapeo solo a los valores NaN en las columnas 'lat_gd' y 'long_gd'\n",
    "df_resultado['lat_gd'].fillna(df_resultado['Columna_A'].map(mapeo_latitud), inplace=True)\n",
    "df_resultado['long_gd'].fillna(df_resultado['Columna_A'].map(mapeo_longitud), inplace=True)\n",
    "\n",
    "df_resultado['cod_depto'].fillna(df_resultado['Columna_A'], inplace=True)\n",
    "# Ver el DataFrame resultante\n",
    "df_resultado.info()"
   ]
  },
  {
   "cell_type": "code",
   "execution_count": 762,
   "metadata": {},
   "outputs": [
    {
     "data": {
      "text/html": [
       "<div>\n",
       "<style scoped>\n",
       "    .dataframe tbody tr th:only-of-type {\n",
       "        vertical-align: middle;\n",
       "    }\n",
       "\n",
       "    .dataframe tbody tr th {\n",
       "        vertical-align: top;\n",
       "    }\n",
       "\n",
       "    .dataframe thead th {\n",
       "        text-align: right;\n",
       "    }\n",
       "</style>\n",
       "<table border=\"1\" class=\"dataframe\">\n",
       "  <thead>\n",
       "    <tr style=\"text-align: right;\">\n",
       "      <th></th>\n",
       "      <th>Columna_A</th>\n",
       "      <th>cod_depto</th>\n",
       "      <th>lat_gd</th>\n",
       "      <th>long_gd</th>\n",
       "    </tr>\n",
       "  </thead>\n",
       "  <tbody>\n",
       "    <tr>\n",
       "      <th>0</th>\n",
       "      <td>02104</td>\n",
       "      <td>02104</td>\n",
       "      <td>-34.6337312154708</td>\n",
       "      <td>-58.3886402930729</td>\n",
       "    </tr>\n",
       "    <tr>\n",
       "      <th>1</th>\n",
       "      <td>02113</td>\n",
       "      <td>02113</td>\n",
       "      <td>-34.5402243475673</td>\n",
       "      <td>-58.4403311131044</td>\n",
       "    </tr>\n",
       "    <tr>\n",
       "      <th>2</th>\n",
       "      <td>02109</td>\n",
       "      <td>02109</td>\n",
       "      <td>-34.6745061867358</td>\n",
       "      <td>-58.502521732609</td>\n",
       "    </tr>\n",
       "    <tr>\n",
       "      <th>3</th>\n",
       "      <td>02102</td>\n",
       "      <td>02102</td>\n",
       "      <td>-34.5700235247202</td>\n",
       "      <td>-58.3800038855693</td>\n",
       "    </tr>\n",
       "    <tr>\n",
       "      <th>4</th>\n",
       "      <td>02101</td>\n",
       "      <td>02101</td>\n",
       "      <td>-34.5736500693969</td>\n",
       "      <td>-58.3685405568825</td>\n",
       "    </tr>\n",
       "  </tbody>\n",
       "</table>\n",
       "</div>"
      ],
      "text/plain": [
       "  Columna_A cod_depto             lat_gd            long_gd\n",
       "0     02104     02104  -34.6337312154708  -58.3886402930729\n",
       "1     02113     02113  -34.5402243475673  -58.4403311131044\n",
       "2     02109     02109  -34.6745061867358   -58.502521732609\n",
       "3     02102     02102  -34.5700235247202  -58.3800038855693\n",
       "4     02101     02101  -34.5736500693969  -58.3685405568825"
      ]
     },
     "execution_count": 762,
     "metadata": {},
     "output_type": "execute_result"
    }
   ],
   "source": [
    "df_resultado.head()"
   ]
  },
  {
   "cell_type": "code",
   "execution_count": 763,
   "metadata": {},
   "outputs": [
    {
     "name": "stderr",
     "output_type": "stream",
     "text": [
      "C:\\Users\\DH\\AppData\\Local\\Temp\\ipykernel_3884\\2736264318.py:6: SettingWithCopyWarning: \n",
      "A value is trying to be set on a copy of a slice from a DataFrame.\n",
      "Try using .loc[row_indexer,col_indexer] = value instead\n",
      "\n",
      "See the caveats in the documentation: https://pandas.pydata.org/pandas-docs/stable/user_guide/indexing.html#returning-a-view-versus-a-copy\n",
      "  dataUrbPrivados['Latitud'] = dataUrbPrivados['Código de departamento'].map(mapeo_latitud)\n",
      "C:\\Users\\DH\\AppData\\Local\\Temp\\ipykernel_3884\\2736264318.py:7: SettingWithCopyWarning: \n",
      "A value is trying to be set on a copy of a slice from a DataFrame.\n",
      "Try using .loc[row_indexer,col_indexer] = value instead\n",
      "\n",
      "See the caveats in the documentation: https://pandas.pydata.org/pandas-docs/stable/user_guide/indexing.html#returning-a-view-versus-a-copy\n",
      "  dataUrbPrivados['Longitud'] = dataUrbPrivados['Código de departamento'].map(mapeo_longitud)\n"
     ]
    },
    {
     "data": {
      "text/plain": [
       "(8598, 31)"
      ]
     },
     "execution_count": 763,
     "metadata": {},
     "output_type": "execute_result"
    }
   ],
   "source": [
    "# Crea un diccionario de mapeo usando el DataFrame df_coordenadas\n",
    "mapeo_latitud = df_resultado.set_index('cod_depto')['lat_gd'].to_dict()\n",
    "mapeo_longitud = df_resultado.set_index('cod_depto')['long_gd'].to_dict()\n",
    "\n",
    "# Agrega las columnas 'Latitud' y 'Longitud' al DataFrame df_departamentos\n",
    "dataUrbPrivados['Latitud'] = dataUrbPrivados['Código de departamento'].map(mapeo_latitud)\n",
    "dataUrbPrivados['Longitud'] = dataUrbPrivados['Código de departamento'].map(mapeo_longitud)\n",
    "\n",
    "# Ver el DataFrame resultante\n",
    "dataUrbPrivados.shape\n"
   ]
  },
  {
   "cell_type": "code",
   "execution_count": 764,
   "metadata": {},
   "outputs": [
    {
     "name": "stdout",
     "output_type": "stream",
     "text": [
      "<class 'pandas.core.frame.DataFrame'>\n",
      "Int64Index: 8598 entries, 0 to 63996\n",
      "Data columns (total 31 columns):\n",
      " #   Column                               Non-Null Count  Dtype  \n",
      "---  ------                               --------------  -----  \n",
      " 0   Jurisdicción                         8598 non-null   object \n",
      " 1   Sector                               8598 non-null   object \n",
      " 2   Ámbito                               8598 non-null   object \n",
      " 3   Departamento                         8598 non-null   object \n",
      " 4   Código de departamento               8598 non-null   object \n",
      " 5   Localidad                            8598 non-null   object \n",
      " 6   Nombre                               8598 non-null   object \n",
      " 7   Domicilio                            8598 non-null   object \n",
      " 8   Código Postal                        8409 non-null   object \n",
      " 9   Código de área telefónico            8316 non-null   object \n",
      " 10  Número de teléfono                   8549 non-null   object \n",
      " 11  Correo elecontrónico                 8248 non-null   object \n",
      " 12  Ed. Común                            8128 non-null   float64\n",
      " 13  Ed. Jóvenes y Adultos                671 non-null    float64\n",
      " 14  Ed. Intercultural Bilingüe           2 non-null      float64\n",
      " 15  EC_Jardín maternal                   403 non-null    float64\n",
      " 16  EC_Inicial                           2087 non-null   float64\n",
      " 17  EC_Primaria                          3914 non-null   float64\n",
      " 18  EC_Secundaria                        3813 non-null   float64\n",
      " 19  EC_Secundaria Técnica (INET)         144 non-null    float64\n",
      " 20  EC_Superior no Universitario         1199 non-null   float64\n",
      " 21  EC_Superior No Universitario (INET)  358 non-null    float64\n",
      " 22  EJA_Primaria                         31 non-null     float64\n",
      " 23  EJA_EGB3                             0 non-null      float64\n",
      " 24  EJA_Secundaria                       212 non-null    float64\n",
      " 25  EJA_Alfabetización                   0 non-null      float64\n",
      " 26  EJA_Formación Profesional            462 non-null    float64\n",
      " 27  EJA_Formación Profesional (INET)     108 non-null    float64\n",
      " 28  FORMA_PARTE_DE_DH?                   8598 non-null   object \n",
      " 29  Latitud                              8598 non-null   object \n",
      " 30  Longitud                             8598 non-null   object \n",
      "dtypes: float64(16), object(15)\n",
      "memory usage: 2.1+ MB\n"
     ]
    }
   ],
   "source": [
    "dataUrbPrivados.info()"
   ]
  },
  {
   "cell_type": "code",
   "execution_count": 766,
   "metadata": {},
   "outputs": [
    {
     "name": "stderr",
     "output_type": "stream",
     "text": [
      "C:\\Users\\DH\\AppData\\Local\\Temp\\ipykernel_3884\\3059367724.py:10: SettingWithCopyWarning: \n",
      "A value is trying to be set on a copy of a slice from a DataFrame.\n",
      "Try using .loc[row_indexer,col_indexer] = value instead\n",
      "\n",
      "See the caveats in the documentation: https://pandas.pydata.org/pandas-docs/stable/user_guide/indexing.html#returning-a-view-versus-a-copy\n",
      "  dataUrbPrivados['Distancia_KM'] = dataUrbPrivados.apply(lambda row: geodesic((row['Latitud'], row['Longitud']), coordenadas_objetivo).kilometers, axis=1)\n"
     ]
    },
    {
     "data": {
      "text/html": [
       "<div>\n",
       "<style scoped>\n",
       "    .dataframe tbody tr th:only-of-type {\n",
       "        vertical-align: middle;\n",
       "    }\n",
       "\n",
       "    .dataframe tbody tr th {\n",
       "        vertical-align: top;\n",
       "    }\n",
       "\n",
       "    .dataframe thead th {\n",
       "        text-align: right;\n",
       "    }\n",
       "</style>\n",
       "<table border=\"1\" class=\"dataframe\">\n",
       "  <thead>\n",
       "    <tr style=\"text-align: right;\">\n",
       "      <th></th>\n",
       "      <th>Jurisdicción</th>\n",
       "      <th>Sector</th>\n",
       "      <th>Ámbito</th>\n",
       "      <th>Departamento</th>\n",
       "      <th>Código de departamento</th>\n",
       "      <th>Localidad</th>\n",
       "      <th>Nombre</th>\n",
       "      <th>Domicilio</th>\n",
       "      <th>Código Postal</th>\n",
       "      <th>Código de área telefónico</th>\n",
       "      <th>...</th>\n",
       "      <th>EJA_Primaria</th>\n",
       "      <th>EJA_EGB3</th>\n",
       "      <th>EJA_Secundaria</th>\n",
       "      <th>EJA_Alfabetización</th>\n",
       "      <th>EJA_Formación Profesional</th>\n",
       "      <th>EJA_Formación Profesional (INET)</th>\n",
       "      <th>FORMA_PARTE_DE_DH?</th>\n",
       "      <th>Latitud</th>\n",
       "      <th>Longitud</th>\n",
       "      <th>Distancia_KM</th>\n",
       "    </tr>\n",
       "  </thead>\n",
       "  <tbody>\n",
       "    <tr>\n",
       "      <th>0</th>\n",
       "      <td>Ciudad de Buenos Aires</td>\n",
       "      <td>Privado</td>\n",
       "      <td>Urbano</td>\n",
       "      <td>Comuna 4</td>\n",
       "      <td>02104</td>\n",
       "      <td>CIUDAD DE BUENOS AIRES</td>\n",
       "      <td>INSTITUTO PRIVADO ESCUELA EVANGELICA WILLIAM C...</td>\n",
       "      <td>SUÁREZ  684 BOCA</td>\n",
       "      <td>C1162</td>\n",
       "      <td>011</td>\n",
       "      <td>...</td>\n",
       "      <td>NaN</td>\n",
       "      <td>NaN</td>\n",
       "      <td>NaN</td>\n",
       "      <td>NaN</td>\n",
       "      <td>NaN</td>\n",
       "      <td>NaN</td>\n",
       "      <td></td>\n",
       "      <td>-34.6337312154708</td>\n",
       "      <td>-58.3886402930729</td>\n",
       "      <td>10.721099</td>\n",
       "    </tr>\n",
       "    <tr>\n",
       "      <th>2</th>\n",
       "      <td>Ciudad de Buenos Aires</td>\n",
       "      <td>Privado</td>\n",
       "      <td>Urbano</td>\n",
       "      <td>Comuna 13</td>\n",
       "      <td>02113</td>\n",
       "      <td>CIUDAD DE BUENOS AIRES</td>\n",
       "      <td>INSTITUTO SAN CAYETANO</td>\n",
       "      <td>VIDAL 1743 BELGRANO</td>\n",
       "      <td>C1426</td>\n",
       "      <td>011</td>\n",
       "      <td>...</td>\n",
       "      <td>NaN</td>\n",
       "      <td>NaN</td>\n",
       "      <td>NaN</td>\n",
       "      <td>NaN</td>\n",
       "      <td>NaN</td>\n",
       "      <td>NaN</td>\n",
       "      <td></td>\n",
       "      <td>-34.5402243475673</td>\n",
       "      <td>-58.4403311131044</td>\n",
       "      <td>0.983563</td>\n",
       "    </tr>\n",
       "    <tr>\n",
       "      <th>3</th>\n",
       "      <td>Ciudad de Buenos Aires</td>\n",
       "      <td>Privado</td>\n",
       "      <td>Urbano</td>\n",
       "      <td>Comuna 13</td>\n",
       "      <td>02113</td>\n",
       "      <td>CIUDAD DE BUENOS AIRES</td>\n",
       "      <td>INSTITUTO NUESTRA SEÑORA DEL ROSARIO</td>\n",
       "      <td>CIUDAD DE LA PAZ 1839 BELGRANO</td>\n",
       "      <td>C1428</td>\n",
       "      <td>011</td>\n",
       "      <td>...</td>\n",
       "      <td>NaN</td>\n",
       "      <td>NaN</td>\n",
       "      <td>NaN</td>\n",
       "      <td>NaN</td>\n",
       "      <td>NaN</td>\n",
       "      <td>NaN</td>\n",
       "      <td></td>\n",
       "      <td>-34.5402243475673</td>\n",
       "      <td>-58.4403311131044</td>\n",
       "      <td>0.983563</td>\n",
       "    </tr>\n",
       "    <tr>\n",
       "      <th>4</th>\n",
       "      <td>Ciudad de Buenos Aires</td>\n",
       "      <td>Privado</td>\n",
       "      <td>Urbano</td>\n",
       "      <td>Comuna 9</td>\n",
       "      <td>02109</td>\n",
       "      <td>CIUDAD DE BUENOS AIRES</td>\n",
       "      <td>INSTITUTO NTRA SEÑORA DE LUJAN DE LOS PATRIOTAS</td>\n",
       "      <td>AVDA. EMILIO CASTRO 7142 MATADEROS</td>\n",
       "      <td>C1408</td>\n",
       "      <td>011</td>\n",
       "      <td>...</td>\n",
       "      <td>NaN</td>\n",
       "      <td>NaN</td>\n",
       "      <td>NaN</td>\n",
       "      <td>NaN</td>\n",
       "      <td>NaN</td>\n",
       "      <td>NaN</td>\n",
       "      <td></td>\n",
       "      <td>-34.6745061867358</td>\n",
       "      <td>-58.502521732609</td>\n",
       "      <td>14.967908</td>\n",
       "    </tr>\n",
       "    <tr>\n",
       "      <th>11</th>\n",
       "      <td>Ciudad de Buenos Aires</td>\n",
       "      <td>Privado</td>\n",
       "      <td>Urbano</td>\n",
       "      <td>Comuna 13</td>\n",
       "      <td>02113</td>\n",
       "      <td>CIUDAD DE BUENOS AIRES</td>\n",
       "      <td>ESCUELA DE LA ALDEA</td>\n",
       "      <td>NUÑEZ 2776 NUÑEZ</td>\n",
       "      <td>C1429</td>\n",
       "      <td>011</td>\n",
       "      <td>...</td>\n",
       "      <td>NaN</td>\n",
       "      <td>NaN</td>\n",
       "      <td>NaN</td>\n",
       "      <td>NaN</td>\n",
       "      <td>NaN</td>\n",
       "      <td>NaN</td>\n",
       "      <td></td>\n",
       "      <td>-34.5402243475673</td>\n",
       "      <td>-58.4403311131044</td>\n",
       "      <td>0.983563</td>\n",
       "    </tr>\n",
       "  </tbody>\n",
       "</table>\n",
       "<p>5 rows × 32 columns</p>\n",
       "</div>"
      ],
      "text/plain": [
       "              Jurisdicción   Sector  Ámbito Departamento  \\\n",
       "0   Ciudad de Buenos Aires  Privado  Urbano     Comuna 4   \n",
       "2   Ciudad de Buenos Aires  Privado  Urbano    Comuna 13   \n",
       "3   Ciudad de Buenos Aires  Privado  Urbano    Comuna 13   \n",
       "4   Ciudad de Buenos Aires  Privado  Urbano     Comuna 9   \n",
       "11  Ciudad de Buenos Aires  Privado  Urbano    Comuna 13   \n",
       "\n",
       "   Código de departamento               Localidad  \\\n",
       "0                   02104  CIUDAD DE BUENOS AIRES   \n",
       "2                   02113  CIUDAD DE BUENOS AIRES   \n",
       "3                   02113  CIUDAD DE BUENOS AIRES   \n",
       "4                   02109  CIUDAD DE BUENOS AIRES   \n",
       "11                  02113  CIUDAD DE BUENOS AIRES   \n",
       "\n",
       "                                               Nombre  \\\n",
       "0   INSTITUTO PRIVADO ESCUELA EVANGELICA WILLIAM C...   \n",
       "2                              INSTITUTO SAN CAYETANO   \n",
       "3                INSTITUTO NUESTRA SEÑORA DEL ROSARIO   \n",
       "4     INSTITUTO NTRA SEÑORA DE LUJAN DE LOS PATRIOTAS   \n",
       "11                                ESCUELA DE LA ALDEA   \n",
       "\n",
       "                              Domicilio Código Postal  \\\n",
       "0                     SUÁREZ  684 BOCA          C1162   \n",
       "2                  VIDAL 1743 BELGRANO          C1426   \n",
       "3       CIUDAD DE LA PAZ 1839 BELGRANO          C1428   \n",
       "4   AVDA. EMILIO CASTRO 7142 MATADEROS          C1408   \n",
       "11                    NUÑEZ 2776 NUÑEZ          C1429   \n",
       "\n",
       "   Código de área telefónico  ... EJA_Primaria EJA_EGB3  EJA_Secundaria  \\\n",
       "0                        011  ...          NaN      NaN             NaN   \n",
       "2                        011  ...          NaN      NaN             NaN   \n",
       "3                        011  ...          NaN      NaN             NaN   \n",
       "4                        011  ...          NaN      NaN             NaN   \n",
       "11                       011  ...          NaN      NaN             NaN   \n",
       "\n",
       "    EJA_Alfabetización  EJA_Formación Profesional  \\\n",
       "0                  NaN                        NaN   \n",
       "2                  NaN                        NaN   \n",
       "3                  NaN                        NaN   \n",
       "4                  NaN                        NaN   \n",
       "11                 NaN                        NaN   \n",
       "\n",
       "    EJA_Formación Profesional (INET)  FORMA_PARTE_DE_DH?            Latitud  \\\n",
       "0                                NaN                      -34.6337312154708   \n",
       "2                                NaN                      -34.5402243475673   \n",
       "3                                NaN                      -34.5402243475673   \n",
       "4                                NaN                      -34.6745061867358   \n",
       "11                               NaN                      -34.5402243475673   \n",
       "\n",
       "             Longitud  Distancia_KM  \n",
       "0   -58.3886402930729     10.721099  \n",
       "2   -58.4403311131044      0.983563  \n",
       "3   -58.4403311131044      0.983563  \n",
       "4    -58.502521732609     14.967908  \n",
       "11  -58.4403311131044      0.983563  \n",
       "\n",
       "[5 rows x 32 columns]"
      ]
     },
     "execution_count": 766,
     "metadata": {},
     "output_type": "execute_result"
    }
   ],
   "source": [
    "import pandas as pd\n",
    "from geopy.distance import geodesic\n",
    "\n",
    "# Supongamos que tienes las coordenadas objetivo\n",
    "coordenadas_objetivo = (-34.54858014458487, -58.4439146767146)  # Reemplaza lat_objetivo y long_objetivo con tus coordenadas objetivo\n",
    "# coordenadas_objetivo = (-58.4439146767146, -34.54858014458487)  # Reemplaza lat_objetivo y long_objetivo con tus coordenadas objetivo\n",
    "\n",
    "# Supongamos que tienes un DataFrame dataUrbPrivados con columnas 'Latitud' y 'Longitud'\n",
    "# Agrega una nueva columna 'Distancia_KM' que contendrá la distancia en kilómetros a las coordenadas objetivo\n",
    "dataUrbPrivados['Distancia_KM'] = dataUrbPrivados.apply(lambda row: geodesic((row['Latitud'], row['Longitud']), coordenadas_objetivo).kilometers, axis=1)\n",
    "\n",
    "# Ver el DataFrame resultante con la columna 'Distancia_KM' agregada\n",
    "dataUrbPrivados.head()\n"
   ]
  },
  {
   "cell_type": "code",
   "execution_count": 767,
   "metadata": {},
   "outputs": [
    {
     "name": "stdout",
     "output_type": "stream",
     "text": [
      "La distancia entre los puntos A y B es de 589.90 kilómetros\n"
     ]
    }
   ],
   "source": [
    "from geopy.distance import geodesic\n",
    "\n",
    "# Coordenadas del punto A (latitud y longitud)\n",
    "coordenadas_a = (-58.4439146767146, -34.54858014458487)  # Latitud y longitud de Buenos Aires, Argentina\n",
    "\n",
    "# Coordenadas del punto B (latitud y longitud)\n",
    "# coordenadas_b = (-31.554101, -63.535697)  # Latitud y longitud de Lima, Perú\n",
    "coordenadas_b = (-63.535697, -31.554101)  # Latitud y longitud de Lima, Perú\n",
    "\n",
    "# Calcular la distancia geodésica entre los puntos A y B en kilómetros\n",
    "distancia_km = geodesic(coordenadas_a, coordenadas_b).kilometers\n",
    "\n",
    "# Imprimir la distancia\n",
    "print(f\"La distancia entre los puntos A y B es de {distancia_km:.2f} kilómetros\")\n"
   ]
  },
  {
   "cell_type": "code",
   "execution_count": 768,
   "metadata": {},
   "outputs": [
    {
     "data": {
      "text/plain": [
       "Jurisdicción                                                                     Córdoba\n",
       "Sector                                                                           Privado\n",
       "Ámbito                                                                            Urbano\n",
       "Departamento                                                                 RIO SEGUNDO\n",
       "Código de departamento                                                             14119\n",
       "Localidad                                                              VILLA DEL ROSARIO\n",
       "Nombre                                 ESCUELA SUPERIOR DE ENFERMERIA CRUZ ROJA ARGEN...\n",
       "Domicilio                                        9 DE JULIO 536 CENTRO VILLA DEL ROSARIO\n",
       "Código Postal                                                                      X5963\n",
       "Código de área telefónico                                                          03573\n",
       "Número de teléfono                                                                424802\n",
       "Correo elecontrónico                   vd-rosario@cruzroja.org.ar; iscravdr530@gmail....\n",
       "Ed. Común                                                                            1.0\n",
       "Ed. Jóvenes y Adultos                                                                NaN\n",
       "Ed. Intercultural Bilingüe                                                           NaN\n",
       "EC_Jardín maternal                                                                   NaN\n",
       "EC_Inicial                                                                           NaN\n",
       "EC_Primaria                                                                          NaN\n",
       "EC_Secundaria                                                                        NaN\n",
       "EC_Secundaria Técnica (INET)                                                         NaN\n",
       "EC_Superior no Universitario                                                         1.0\n",
       "EC_Superior No Universitario (INET)                                                  1.0\n",
       "EJA_Primaria                                                                         NaN\n",
       "EJA_EGB3                                                                             NaN\n",
       "EJA_Secundaria                                                                       NaN\n",
       "EJA_Alfabetización                                                                   NaN\n",
       "EJA_Formación Profesional                                                            NaN\n",
       "EJA_Formación Profesional (INET)                                                     NaN\n",
       "FORMA_PARTE_DE_DH?                                                                      \n",
       "Latitud                                                                       -31.554101\n",
       "Longitud                                                                      -63.535697\n",
       "Distancia_KM                                                                  579.910755\n",
       "Name: 28040, dtype: object"
      ]
     },
     "execution_count": 768,
     "metadata": {},
     "output_type": "execute_result"
    }
   ],
   "source": [
    "# Ver el DataFrame resultante con la columna 'Distancia_KM' agregada\n",
    "dataUrbPrivados.iloc[5000]"
   ]
  },
  {
   "cell_type": "code",
   "execution_count": 769,
   "metadata": {},
   "outputs": [],
   "source": [
    "# Crear la columna \"TipoEducacion\" basada en las condiciones\n",
    "def get_tipo_educacion(row):\n",
    "    if row['Ed. Común'] == 1.0:\n",
    "        return 'Educación Común'\n",
    "    elif row['Ed. Jóvenes y Adultos'] == 1.0:\n",
    "        return 'Educacion Jovenes Y Adultos'\n",
    "    elif row['Ed. Intercultural Bilingüe'] == 1.0:\n",
    "        return 'Bilingue'\n",
    "    else:\n",
    "        return 'Desconocido'"
   ]
  },
  {
   "cell_type": "code",
   "execution_count": 770,
   "metadata": {},
   "outputs": [
    {
     "name": "stderr",
     "output_type": "stream",
     "text": [
      "C:\\Users\\DH\\AppData\\Local\\Temp\\ipykernel_3884\\2977678745.py:1: SettingWithCopyWarning: \n",
      "A value is trying to be set on a copy of a slice from a DataFrame.\n",
      "Try using .loc[row_indexer,col_indexer] = value instead\n",
      "\n",
      "See the caveats in the documentation: https://pandas.pydata.org/pandas-docs/stable/user_guide/indexing.html#returning-a-view-versus-a-copy\n",
      "  dataUrbPrivados['TipoEducacion'] = dataUrbPrivados.apply(get_tipo_educacion, axis=1)\n"
     ]
    },
    {
     "data": {
      "text/plain": [
       "Educación Común                8128\n",
       "Educacion Jovenes Y Adultos     470\n",
       "Name: TipoEducacion, dtype: int64"
      ]
     },
     "execution_count": 770,
     "metadata": {},
     "output_type": "execute_result"
    }
   ],
   "source": [
    "dataUrbPrivados['TipoEducacion'] = dataUrbPrivados.apply(get_tipo_educacion, axis=1)\n",
    "dataUrbPrivados[\"TipoEducacion\"].value_counts()"
   ]
  },
  {
   "cell_type": "code",
   "execution_count": 771,
   "metadata": {},
   "outputs": [
    {
     "data": {
      "text/plain": [
       "(8598, 24)"
      ]
     },
     "execution_count": 771,
     "metadata": {},
     "output_type": "execute_result"
    }
   ],
   "source": [
    "# Eliminamos las columnas que no sirven\n",
    "columnasAEliminar = ['Ed. Común', 'Ed. Jóvenes y Adultos',\n",
    "       'Ed. Intercultural Bilingüe', 'EC_Superior no Universitario', 'EC_Superior No Universitario (INET)', 'EJA_EGB3', 'EJA_Alfabetización',\n",
    "       'EJA_Formación Profesional', 'EJA_Formación Profesional (INET)']\n",
    "\n",
    "dataUrbPrivados = dataUrbPrivados.drop(columns=columnasAEliminar)\n",
    "dataUrbPrivados.shape"
   ]
  },
  {
   "cell_type": "code",
   "execution_count": 772,
   "metadata": {},
   "outputs": [
    {
     "data": {
      "text/html": [
       "<div>\n",
       "<style scoped>\n",
       "    .dataframe tbody tr th:only-of-type {\n",
       "        vertical-align: middle;\n",
       "    }\n",
       "\n",
       "    .dataframe tbody tr th {\n",
       "        vertical-align: top;\n",
       "    }\n",
       "\n",
       "    .dataframe thead th {\n",
       "        text-align: right;\n",
       "    }\n",
       "</style>\n",
       "<table border=\"1\" class=\"dataframe\">\n",
       "  <thead>\n",
       "    <tr style=\"text-align: right;\">\n",
       "      <th></th>\n",
       "      <th>Jurisdicción</th>\n",
       "      <th>Sector</th>\n",
       "      <th>Ámbito</th>\n",
       "      <th>Departamento</th>\n",
       "      <th>Código de departamento</th>\n",
       "      <th>Localidad</th>\n",
       "      <th>Nombre</th>\n",
       "      <th>Domicilio</th>\n",
       "      <th>Código Postal</th>\n",
       "      <th>Código de área telefónico</th>\n",
       "      <th>...</th>\n",
       "      <th>EC_Primaria</th>\n",
       "      <th>EC_Secundaria</th>\n",
       "      <th>EC_Secundaria Técnica (INET)</th>\n",
       "      <th>EJA_Primaria</th>\n",
       "      <th>EJA_Secundaria</th>\n",
       "      <th>FORMA_PARTE_DE_DH?</th>\n",
       "      <th>Latitud</th>\n",
       "      <th>Longitud</th>\n",
       "      <th>Distancia_KM</th>\n",
       "      <th>TipoEducacion</th>\n",
       "    </tr>\n",
       "  </thead>\n",
       "  <tbody>\n",
       "    <tr>\n",
       "      <th>0</th>\n",
       "      <td>Ciudad de Buenos Aires</td>\n",
       "      <td>Privado</td>\n",
       "      <td>Urbano</td>\n",
       "      <td>Comuna 4</td>\n",
       "      <td>02104</td>\n",
       "      <td>CIUDAD DE BUENOS AIRES</td>\n",
       "      <td>INSTITUTO PRIVADO ESCUELA EVANGELICA WILLIAM C...</td>\n",
       "      <td>SUÁREZ  684 BOCA</td>\n",
       "      <td>C1162</td>\n",
       "      <td>011</td>\n",
       "      <td>...</td>\n",
       "      <td>1.0</td>\n",
       "      <td>1.0</td>\n",
       "      <td>NaN</td>\n",
       "      <td>NaN</td>\n",
       "      <td>NaN</td>\n",
       "      <td></td>\n",
       "      <td>-34.6337312154708</td>\n",
       "      <td>-58.3886402930729</td>\n",
       "      <td>10.721099</td>\n",
       "      <td>Educación Común</td>\n",
       "    </tr>\n",
       "    <tr>\n",
       "      <th>2</th>\n",
       "      <td>Ciudad de Buenos Aires</td>\n",
       "      <td>Privado</td>\n",
       "      <td>Urbano</td>\n",
       "      <td>Comuna 13</td>\n",
       "      <td>02113</td>\n",
       "      <td>CIUDAD DE BUENOS AIRES</td>\n",
       "      <td>INSTITUTO SAN CAYETANO</td>\n",
       "      <td>VIDAL 1743 BELGRANO</td>\n",
       "      <td>C1426</td>\n",
       "      <td>011</td>\n",
       "      <td>...</td>\n",
       "      <td>1.0</td>\n",
       "      <td>NaN</td>\n",
       "      <td>NaN</td>\n",
       "      <td>NaN</td>\n",
       "      <td>NaN</td>\n",
       "      <td></td>\n",
       "      <td>-34.5402243475673</td>\n",
       "      <td>-58.4403311131044</td>\n",
       "      <td>0.983563</td>\n",
       "      <td>Educación Común</td>\n",
       "    </tr>\n",
       "  </tbody>\n",
       "</table>\n",
       "<p>2 rows × 24 columns</p>\n",
       "</div>"
      ],
      "text/plain": [
       "             Jurisdicción   Sector  Ámbito Departamento  \\\n",
       "0  Ciudad de Buenos Aires  Privado  Urbano     Comuna 4   \n",
       "2  Ciudad de Buenos Aires  Privado  Urbano    Comuna 13   \n",
       "\n",
       "  Código de departamento               Localidad  \\\n",
       "0                  02104  CIUDAD DE BUENOS AIRES   \n",
       "2                  02113  CIUDAD DE BUENOS AIRES   \n",
       "\n",
       "                                              Nombre             Domicilio  \\\n",
       "0  INSTITUTO PRIVADO ESCUELA EVANGELICA WILLIAM C...     SUÁREZ  684 BOCA    \n",
       "2                             INSTITUTO SAN CAYETANO  VIDAL 1743 BELGRANO    \n",
       "\n",
       "  Código Postal Código de área telefónico  ... EC_Primaria EC_Secundaria  \\\n",
       "0         C1162                       011  ...         1.0           1.0   \n",
       "2         C1426                       011  ...         1.0           NaN   \n",
       "\n",
       "   EC_Secundaria Técnica (INET)  EJA_Primaria  EJA_Secundaria  \\\n",
       "0                           NaN           NaN             NaN   \n",
       "2                           NaN           NaN             NaN   \n",
       "\n",
       "   FORMA_PARTE_DE_DH?            Latitud           Longitud  Distancia_KM  \\\n",
       "0                      -34.6337312154708  -58.3886402930729     10.721099   \n",
       "2                      -34.5402243475673  -58.4403311131044      0.983563   \n",
       "\n",
       "     TipoEducacion  \n",
       "0  Educación Común  \n",
       "2  Educación Común  \n",
       "\n",
       "[2 rows x 24 columns]"
      ]
     },
     "execution_count": 772,
     "metadata": {},
     "output_type": "execute_result"
    }
   ],
   "source": [
    "dataUrbPrivados.head(2)"
   ]
  },
  {
   "cell_type": "code",
   "execution_count": 773,
   "metadata": {},
   "outputs": [],
   "source": [
    "# Reemplazar los valores en la columna EC_Primaria\n",
    "dataUrbPrivados['EC_Primaria'] = dataUrbPrivados['EC_Primaria'].apply(lambda x: 'Primaria' if x == 1.0 else '')\n",
    "dataUrbPrivados['EC_Jardín maternal'] = dataUrbPrivados['EC_Jardín maternal'].apply(lambda x: 'Maternal' if x == 1.0 else '')\n",
    "dataUrbPrivados['EC_Inicial'] = dataUrbPrivados['EC_Inicial'].apply(lambda x: 'Inicial' if x == 1.0 else '')\n",
    "dataUrbPrivados['EC_Secundaria'] = dataUrbPrivados['EC_Secundaria'].apply(lambda x: 'Secundaria' if x == 1.0 else '')\n",
    "dataUrbPrivados['EC_Secundaria Técnica (INET)'] = dataUrbPrivados['EC_Secundaria Técnica (INET)'].apply(lambda x: 'Secundaria Técnica' if x == 1.0 else '')\n",
    "dataUrbPrivados['EJA_Primaria'] = dataUrbPrivados['EJA_Primaria'].apply(lambda x: 'JyA Primaria' if x == 1.0 else '')\n",
    "dataUrbPrivados['EJA_Secundaria'] = dataUrbPrivados['EJA_Secundaria'].apply(lambda x: 'JyA Secundaria' if x == 1.0 else '')\n"
   ]
  },
  {
   "cell_type": "code",
   "execution_count": 774,
   "metadata": {},
   "outputs": [
    {
     "data": {
      "text/html": [
       "<div>\n",
       "<style scoped>\n",
       "    .dataframe tbody tr th:only-of-type {\n",
       "        vertical-align: middle;\n",
       "    }\n",
       "\n",
       "    .dataframe tbody tr th {\n",
       "        vertical-align: top;\n",
       "    }\n",
       "\n",
       "    .dataframe thead th {\n",
       "        text-align: right;\n",
       "    }\n",
       "</style>\n",
       "<table border=\"1\" class=\"dataframe\">\n",
       "  <thead>\n",
       "    <tr style=\"text-align: right;\">\n",
       "      <th></th>\n",
       "      <th>Jurisdicción</th>\n",
       "      <th>Sector</th>\n",
       "      <th>Ámbito</th>\n",
       "      <th>Departamento</th>\n",
       "      <th>Código de departamento</th>\n",
       "      <th>Localidad</th>\n",
       "      <th>Nombre</th>\n",
       "      <th>Domicilio</th>\n",
       "      <th>Código Postal</th>\n",
       "      <th>Código de área telefónico</th>\n",
       "      <th>...</th>\n",
       "      <th>EC_Primaria</th>\n",
       "      <th>EC_Secundaria</th>\n",
       "      <th>EC_Secundaria Técnica (INET)</th>\n",
       "      <th>EJA_Primaria</th>\n",
       "      <th>EJA_Secundaria</th>\n",
       "      <th>FORMA_PARTE_DE_DH?</th>\n",
       "      <th>Latitud</th>\n",
       "      <th>Longitud</th>\n",
       "      <th>Distancia_KM</th>\n",
       "      <th>TipoEducacion</th>\n",
       "    </tr>\n",
       "  </thead>\n",
       "  <tbody>\n",
       "    <tr>\n",
       "      <th>0</th>\n",
       "      <td>Ciudad de Buenos Aires</td>\n",
       "      <td>Privado</td>\n",
       "      <td>Urbano</td>\n",
       "      <td>Comuna 4</td>\n",
       "      <td>02104</td>\n",
       "      <td>CIUDAD DE BUENOS AIRES</td>\n",
       "      <td>INSTITUTO PRIVADO ESCUELA EVANGELICA WILLIAM C...</td>\n",
       "      <td>SUÁREZ  684 BOCA</td>\n",
       "      <td>C1162</td>\n",
       "      <td>011</td>\n",
       "      <td>...</td>\n",
       "      <td>Primaria</td>\n",
       "      <td>Secundaria</td>\n",
       "      <td></td>\n",
       "      <td></td>\n",
       "      <td></td>\n",
       "      <td></td>\n",
       "      <td>-34.6337312154708</td>\n",
       "      <td>-58.3886402930729</td>\n",
       "      <td>10.721099</td>\n",
       "      <td>Educación Común</td>\n",
       "    </tr>\n",
       "    <tr>\n",
       "      <th>2</th>\n",
       "      <td>Ciudad de Buenos Aires</td>\n",
       "      <td>Privado</td>\n",
       "      <td>Urbano</td>\n",
       "      <td>Comuna 13</td>\n",
       "      <td>02113</td>\n",
       "      <td>CIUDAD DE BUENOS AIRES</td>\n",
       "      <td>INSTITUTO SAN CAYETANO</td>\n",
       "      <td>VIDAL 1743 BELGRANO</td>\n",
       "      <td>C1426</td>\n",
       "      <td>011</td>\n",
       "      <td>...</td>\n",
       "      <td>Primaria</td>\n",
       "      <td></td>\n",
       "      <td></td>\n",
       "      <td></td>\n",
       "      <td></td>\n",
       "      <td></td>\n",
       "      <td>-34.5402243475673</td>\n",
       "      <td>-58.4403311131044</td>\n",
       "      <td>0.983563</td>\n",
       "      <td>Educación Común</td>\n",
       "    </tr>\n",
       "  </tbody>\n",
       "</table>\n",
       "<p>2 rows × 24 columns</p>\n",
       "</div>"
      ],
      "text/plain": [
       "             Jurisdicción   Sector  Ámbito Departamento  \\\n",
       "0  Ciudad de Buenos Aires  Privado  Urbano     Comuna 4   \n",
       "2  Ciudad de Buenos Aires  Privado  Urbano    Comuna 13   \n",
       "\n",
       "  Código de departamento               Localidad  \\\n",
       "0                  02104  CIUDAD DE BUENOS AIRES   \n",
       "2                  02113  CIUDAD DE BUENOS AIRES   \n",
       "\n",
       "                                              Nombre             Domicilio  \\\n",
       "0  INSTITUTO PRIVADO ESCUELA EVANGELICA WILLIAM C...     SUÁREZ  684 BOCA    \n",
       "2                             INSTITUTO SAN CAYETANO  VIDAL 1743 BELGRANO    \n",
       "\n",
       "  Código Postal Código de área telefónico  ... EC_Primaria EC_Secundaria  \\\n",
       "0         C1162                       011  ...    Primaria    Secundaria   \n",
       "2         C1426                       011  ...    Primaria                 \n",
       "\n",
       "  EC_Secundaria Técnica (INET) EJA_Primaria EJA_Secundaria FORMA_PARTE_DE_DH?  \\\n",
       "0                                                                               \n",
       "2                                                                               \n",
       "\n",
       "             Latitud           Longitud Distancia_KM    TipoEducacion  \n",
       "0  -34.6337312154708  -58.3886402930729    10.721099  Educación Común  \n",
       "2  -34.5402243475673  -58.4403311131044     0.983563  Educación Común  \n",
       "\n",
       "[2 rows x 24 columns]"
      ]
     },
     "execution_count": 774,
     "metadata": {},
     "output_type": "execute_result"
    }
   ],
   "source": [
    "dataUrbPrivados.head(2)"
   ]
  },
  {
   "cell_type": "code",
   "execution_count": 775,
   "metadata": {},
   "outputs": [],
   "source": [
    "def get_nivel_escolar(row):\n",
    "    values = row[['EC_Jardín maternal', 'EC_Inicial', 'EC_Primaria', 'EC_Secundaria', 'EC_Secundaria Técnica (INET)', 'EJA_Primaria', 'EJA_Secundaria']].values\n",
    "    non_empty_values = [value for value in values if value != \"\"]  # Filtra las celdas no vacías\n",
    "    return ', '.join(non_empty_values)\n",
    "\n",
    "dataUrbPrivados['Nivel Escolar'] = dataUrbPrivados.apply(get_nivel_escolar, axis=1)"
   ]
  },
  {
   "cell_type": "code",
   "execution_count": 776,
   "metadata": {},
   "outputs": [
    {
     "data": {
      "text/html": [
       "<div>\n",
       "<style scoped>\n",
       "    .dataframe tbody tr th:only-of-type {\n",
       "        vertical-align: middle;\n",
       "    }\n",
       "\n",
       "    .dataframe tbody tr th {\n",
       "        vertical-align: top;\n",
       "    }\n",
       "\n",
       "    .dataframe thead th {\n",
       "        text-align: right;\n",
       "    }\n",
       "</style>\n",
       "<table border=\"1\" class=\"dataframe\">\n",
       "  <thead>\n",
       "    <tr style=\"text-align: right;\">\n",
       "      <th></th>\n",
       "      <th>Jurisdicción</th>\n",
       "      <th>Sector</th>\n",
       "      <th>Ámbito</th>\n",
       "      <th>Departamento</th>\n",
       "      <th>Código de departamento</th>\n",
       "      <th>Localidad</th>\n",
       "      <th>Nombre</th>\n",
       "      <th>Domicilio</th>\n",
       "      <th>Código Postal</th>\n",
       "      <th>Código de área telefónico</th>\n",
       "      <th>...</th>\n",
       "      <th>EC_Secundaria</th>\n",
       "      <th>EC_Secundaria Técnica (INET)</th>\n",
       "      <th>EJA_Primaria</th>\n",
       "      <th>EJA_Secundaria</th>\n",
       "      <th>FORMA_PARTE_DE_DH?</th>\n",
       "      <th>Latitud</th>\n",
       "      <th>Longitud</th>\n",
       "      <th>Distancia_KM</th>\n",
       "      <th>TipoEducacion</th>\n",
       "      <th>Nivel Escolar</th>\n",
       "    </tr>\n",
       "  </thead>\n",
       "  <tbody>\n",
       "    <tr>\n",
       "      <th>0</th>\n",
       "      <td>Ciudad de Buenos Aires</td>\n",
       "      <td>Privado</td>\n",
       "      <td>Urbano</td>\n",
       "      <td>Comuna 4</td>\n",
       "      <td>02104</td>\n",
       "      <td>CIUDAD DE BUENOS AIRES</td>\n",
       "      <td>INSTITUTO PRIVADO ESCUELA EVANGELICA WILLIAM C...</td>\n",
       "      <td>SUÁREZ  684 BOCA</td>\n",
       "      <td>C1162</td>\n",
       "      <td>011</td>\n",
       "      <td>...</td>\n",
       "      <td>Secundaria</td>\n",
       "      <td></td>\n",
       "      <td></td>\n",
       "      <td></td>\n",
       "      <td></td>\n",
       "      <td>-34.6337312154708</td>\n",
       "      <td>-58.3886402930729</td>\n",
       "      <td>10.721099</td>\n",
       "      <td>Educación Común</td>\n",
       "      <td>Maternal, Inicial, Primaria, Secundaria</td>\n",
       "    </tr>\n",
       "    <tr>\n",
       "      <th>2</th>\n",
       "      <td>Ciudad de Buenos Aires</td>\n",
       "      <td>Privado</td>\n",
       "      <td>Urbano</td>\n",
       "      <td>Comuna 13</td>\n",
       "      <td>02113</td>\n",
       "      <td>CIUDAD DE BUENOS AIRES</td>\n",
       "      <td>INSTITUTO SAN CAYETANO</td>\n",
       "      <td>VIDAL 1743 BELGRANO</td>\n",
       "      <td>C1426</td>\n",
       "      <td>011</td>\n",
       "      <td>...</td>\n",
       "      <td></td>\n",
       "      <td></td>\n",
       "      <td></td>\n",
       "      <td></td>\n",
       "      <td></td>\n",
       "      <td>-34.5402243475673</td>\n",
       "      <td>-58.4403311131044</td>\n",
       "      <td>0.983563</td>\n",
       "      <td>Educación Común</td>\n",
       "      <td>Maternal, Inicial, Primaria</td>\n",
       "    </tr>\n",
       "  </tbody>\n",
       "</table>\n",
       "<p>2 rows × 25 columns</p>\n",
       "</div>"
      ],
      "text/plain": [
       "             Jurisdicción   Sector  Ámbito Departamento  \\\n",
       "0  Ciudad de Buenos Aires  Privado  Urbano     Comuna 4   \n",
       "2  Ciudad de Buenos Aires  Privado  Urbano    Comuna 13   \n",
       "\n",
       "  Código de departamento               Localidad  \\\n",
       "0                  02104  CIUDAD DE BUENOS AIRES   \n",
       "2                  02113  CIUDAD DE BUENOS AIRES   \n",
       "\n",
       "                                              Nombre             Domicilio  \\\n",
       "0  INSTITUTO PRIVADO ESCUELA EVANGELICA WILLIAM C...     SUÁREZ  684 BOCA    \n",
       "2                             INSTITUTO SAN CAYETANO  VIDAL 1743 BELGRANO    \n",
       "\n",
       "  Código Postal Código de área telefónico  ... EC_Secundaria  \\\n",
       "0         C1162                       011  ...    Secundaria   \n",
       "2         C1426                       011  ...                 \n",
       "\n",
       "  EC_Secundaria Técnica (INET) EJA_Primaria EJA_Secundaria FORMA_PARTE_DE_DH?  \\\n",
       "0                                                                               \n",
       "2                                                                               \n",
       "\n",
       "             Latitud           Longitud Distancia_KM    TipoEducacion  \\\n",
       "0  -34.6337312154708  -58.3886402930729    10.721099  Educación Común   \n",
       "2  -34.5402243475673  -58.4403311131044     0.983563  Educación Común   \n",
       "\n",
       "                             Nivel Escolar  \n",
       "0  Maternal, Inicial, Primaria, Secundaria  \n",
       "2              Maternal, Inicial, Primaria  \n",
       "\n",
       "[2 rows x 25 columns]"
      ]
     },
     "execution_count": 776,
     "metadata": {},
     "output_type": "execute_result"
    }
   ],
   "source": [
    "dataUrbPrivados.head(2)"
   ]
  },
  {
   "cell_type": "code",
   "execution_count": 777,
   "metadata": {},
   "outputs": [
    {
     "data": {
      "text/html": [
       "<div>\n",
       "<style scoped>\n",
       "    .dataframe tbody tr th:only-of-type {\n",
       "        vertical-align: middle;\n",
       "    }\n",
       "\n",
       "    .dataframe tbody tr th {\n",
       "        vertical-align: top;\n",
       "    }\n",
       "\n",
       "    .dataframe thead th {\n",
       "        text-align: right;\n",
       "    }\n",
       "</style>\n",
       "<table border=\"1\" class=\"dataframe\">\n",
       "  <thead>\n",
       "    <tr style=\"text-align: right;\">\n",
       "      <th></th>\n",
       "      <th>Jurisdicción</th>\n",
       "      <th>Sector</th>\n",
       "      <th>Ámbito</th>\n",
       "      <th>Departamento</th>\n",
       "      <th>Código de departamento</th>\n",
       "      <th>Localidad</th>\n",
       "      <th>Nombre</th>\n",
       "      <th>Domicilio</th>\n",
       "      <th>Código Postal</th>\n",
       "      <th>Código de área telefónico</th>\n",
       "      <th>Número de teléfono</th>\n",
       "      <th>Correo elecontrónico</th>\n",
       "      <th>FORMA_PARTE_DE_DH?</th>\n",
       "      <th>Latitud</th>\n",
       "      <th>Longitud</th>\n",
       "      <th>Distancia_KM</th>\n",
       "      <th>TipoEducacion</th>\n",
       "      <th>Nivel Escolar</th>\n",
       "    </tr>\n",
       "  </thead>\n",
       "  <tbody>\n",
       "    <tr>\n",
       "      <th>0</th>\n",
       "      <td>Ciudad de Buenos Aires</td>\n",
       "      <td>Privado</td>\n",
       "      <td>Urbano</td>\n",
       "      <td>Comuna 4</td>\n",
       "      <td>02104</td>\n",
       "      <td>CIUDAD DE BUENOS AIRES</td>\n",
       "      <td>INSTITUTO PRIVADO ESCUELA EVANGELICA WILLIAM C...</td>\n",
       "      <td>SUÁREZ  684 BOCA</td>\n",
       "      <td>C1162</td>\n",
       "      <td>011</td>\n",
       "      <td>4301-2922/4301-1606</td>\n",
       "      <td>NIVELMEDIOWILLIAMCMORRIS@HOTMAIL.COM /   WILLI...</td>\n",
       "      <td></td>\n",
       "      <td>-34.6337312154708</td>\n",
       "      <td>-58.3886402930729</td>\n",
       "      <td>10.721099</td>\n",
       "      <td>Educación Común</td>\n",
       "      <td>Maternal, Inicial, Primaria, Secundaria</td>\n",
       "    </tr>\n",
       "    <tr>\n",
       "      <th>2</th>\n",
       "      <td>Ciudad de Buenos Aires</td>\n",
       "      <td>Privado</td>\n",
       "      <td>Urbano</td>\n",
       "      <td>Comuna 13</td>\n",
       "      <td>02113</td>\n",
       "      <td>CIUDAD DE BUENOS AIRES</td>\n",
       "      <td>INSTITUTO SAN CAYETANO</td>\n",
       "      <td>VIDAL 1743 BELGRANO</td>\n",
       "      <td>C1426</td>\n",
       "      <td>011</td>\n",
       "      <td>4783-0889 INT119</td>\n",
       "      <td>SANCAYETANOPRIMARIA@GMAIL.COM</td>\n",
       "      <td></td>\n",
       "      <td>-34.5402243475673</td>\n",
       "      <td>-58.4403311131044</td>\n",
       "      <td>0.983563</td>\n",
       "      <td>Educación Común</td>\n",
       "      <td>Maternal, Inicial, Primaria</td>\n",
       "    </tr>\n",
       "  </tbody>\n",
       "</table>\n",
       "</div>"
      ],
      "text/plain": [
       "             Jurisdicción   Sector  Ámbito Departamento  \\\n",
       "0  Ciudad de Buenos Aires  Privado  Urbano     Comuna 4   \n",
       "2  Ciudad de Buenos Aires  Privado  Urbano    Comuna 13   \n",
       "\n",
       "  Código de departamento               Localidad  \\\n",
       "0                  02104  CIUDAD DE BUENOS AIRES   \n",
       "2                  02113  CIUDAD DE BUENOS AIRES   \n",
       "\n",
       "                                              Nombre             Domicilio  \\\n",
       "0  INSTITUTO PRIVADO ESCUELA EVANGELICA WILLIAM C...     SUÁREZ  684 BOCA    \n",
       "2                             INSTITUTO SAN CAYETANO  VIDAL 1743 BELGRANO    \n",
       "\n",
       "  Código Postal Código de área telefónico   Número de teléfono  \\\n",
       "0         C1162                       011  4301-2922/4301-1606   \n",
       "2         C1426                       011     4783-0889 INT119   \n",
       "\n",
       "                                Correo elecontrónico FORMA_PARTE_DE_DH?  \\\n",
       "0  NIVELMEDIOWILLIAMCMORRIS@HOTMAIL.COM /   WILLI...                      \n",
       "2                      SANCAYETANOPRIMARIA@GMAIL.COM                      \n",
       "\n",
       "             Latitud           Longitud  Distancia_KM    TipoEducacion  \\\n",
       "0  -34.6337312154708  -58.3886402930729     10.721099  Educación Común   \n",
       "2  -34.5402243475673  -58.4403311131044      0.983563  Educación Común   \n",
       "\n",
       "                             Nivel Escolar  \n",
       "0  Maternal, Inicial, Primaria, Secundaria  \n",
       "2              Maternal, Inicial, Primaria  "
      ]
     },
     "execution_count": 777,
     "metadata": {},
     "output_type": "execute_result"
    }
   ],
   "source": [
    "# Eliminamos las columnas que no sirven\n",
    "columnasAEliminar = ['EC_Jardín maternal', 'EC_Inicial', 'EC_Primaria', 'EC_Secundaria',\n",
    " 'EC_Secundaria Técnica (INET)', 'EJA_Primaria', 'EJA_Secundaria']\n",
    "\n",
    "dataUrbPrivados = dataUrbPrivados.drop(columns=columnasAEliminar)\n",
    "dataUrbPrivados.head(2)"
   ]
  },
  {
   "cell_type": "code",
   "execution_count": 778,
   "metadata": {},
   "outputs": [],
   "source": [
    "dataUrbPrivados[\"Distancia_KM\"] = dataUrbPrivados[\"Distancia_KM\"].round(1)\n",
    "dataUrbPrivados[\"Distancia_KM\"] = dataUrbPrivados[\"Distancia_KM\"].astype(str)"
   ]
  },
  {
   "cell_type": "code",
   "execution_count": 779,
   "metadata": {},
   "outputs": [],
   "source": [
    "dataFinal = dataUrbPrivados.copy()"
   ]
  },
  {
   "cell_type": "code",
   "execution_count": 780,
   "metadata": {},
   "outputs": [],
   "source": [
    "# Creamos las nuevas columnas\n",
    "dataFinal[\"Etapa\"] = \"\"\n",
    "dataFinal[\"Status\"] = \"\"\n",
    "dataFinal[\"Comunicación Con\"] = \"\"\n",
    "dataFinal[\"Aclaraciones\"] = \"\"\n",
    "dataFinal[\"Próximo Paso\"] = \"\"\n",
    "dataFinal[\"Otro Email\"] = \"\"\n",
    "dataFinal[\"Otro Telefono\"] = \"\""
   ]
  },
  {
   "cell_type": "code",
   "execution_count": 781,
   "metadata": {},
   "outputs": [],
   "source": [
    "# Usar el método loc para asignar \"Etapa 1\" a la columna \"Etapa\" en las filas donde \"Localidad\" contiene \"CIUDAD DE BUENOS AIRES\"\n",
    "dataFinal.loc[dataFinal['Jurisdicción'] == 'Ciudad de Buenos Aires', 'Etapa'] = 'Etapa 1'"
   ]
  },
  {
   "cell_type": "code",
   "execution_count": 782,
   "metadata": {},
   "outputs": [
    {
     "data": {
      "text/plain": [
       "           7942\n",
       "Etapa 1     656\n",
       "Name: Etapa, dtype: int64"
      ]
     },
     "execution_count": 782,
     "metadata": {},
     "output_type": "execute_result"
    }
   ],
   "source": [
    "dataFinal['Etapa'].value_counts()"
   ]
  },
  {
   "cell_type": "code",
   "execution_count": 783,
   "metadata": {},
   "outputs": [],
   "source": [
    "dataFinal = dataFinal.reset_index(drop=True)\n",
    "# dataFinal.drop([\"index\"], axis=1, inplace=True)\n",
    "\n",
    "# Generar la columna \"ID_REGISTRO\" con el formato deseado\n",
    "dataFinal['ID_REGISTRO'] = dataFinal.index + 1  # Para el número de registro\n",
    "dataFinal['ID_REGISTRO'] = dataFinal['ID_REGISTRO'].apply(lambda x: f\"REGISTRO_{x:05d}\")  # Formatear como \"REGISTRO_00001\"\n",
    "\n",
    "# Mover la columna \"ID_REGISTRO\" al primer lugar\n",
    "id_registro = dataFinal.pop('ID_REGISTRO')\n",
    "dataFinal.insert(0, 'ID_REGISTRO', id_registro)"
   ]
  },
  {
   "cell_type": "code",
   "execution_count": 784,
   "metadata": {},
   "outputs": [
    {
     "data": {
      "text/plain": [
       "Index(['ID_REGISTRO', 'Jurisdicción', 'Sector', 'Ámbito', 'Departamento',\n",
       "       'Código de departamento', 'Localidad', 'Nombre', 'Domicilio',\n",
       "       'Código Postal', 'Código de área telefónico', 'Número de teléfono',\n",
       "       'Correo elecontrónico', 'FORMA_PARTE_DE_DH?', 'Latitud', 'Longitud',\n",
       "       'Distancia_KM', 'TipoEducacion', 'Nivel Escolar', 'Etapa', 'Status',\n",
       "       'Comunicación Con', 'Aclaraciones', 'Próximo Paso', 'Otro Email',\n",
       "       'Otro Telefono'],\n",
       "      dtype='object')"
      ]
     },
     "execution_count": 784,
     "metadata": {},
     "output_type": "execute_result"
    }
   ],
   "source": [
    "dataFinal.columns"
   ]
  },
  {
   "cell_type": "code",
   "execution_count": 785,
   "metadata": {},
   "outputs": [],
   "source": [
    "# Reemplazar los nombres de las columnas utilizando el método set_axis()\n",
    "dataFinal = dataFinal.set_axis(['ID_REGISTRO', 'JURISDICCIÓN', 'SECTOR', 'ÁMBITO', 'DEPARTAMENTO',\n",
    "       'CÓDIGO_DEPARTAMENTO', 'LOCALIDAD', 'NOMBRE', 'DOMICILIO',\n",
    "       'CÓDIGO_POSTAL', 'CÓDIGO_TELEFONO', 'NÚMERO_TELEFONO',\n",
    "       'EMAILS', 'FORMA_PARTE_DE_DH?', 'LATITUD', 'LONGITUD',\n",
    "       'DISTANCIA_KM', 'TIPO_EDUCACIÓN', 'NIVEL_ESCOLAR', 'ETAPA', 'ESTADO',\n",
    "       'COMUNICACIÓN_CON', 'ACLARACIONES', 'PRÓXIMO_PASO', 'EMAIL_ALTERNATIVO',\n",
    "       'TELEFONO_ALTERNATIVO'], axis=1)\n"
   ]
  },
  {
   "cell_type": "code",
   "execution_count": 786,
   "metadata": {},
   "outputs": [
    {
     "data": {
      "text/plain": [
       "(8598, 26)"
      ]
     },
     "execution_count": 786,
     "metadata": {},
     "output_type": "execute_result"
    }
   ],
   "source": [
    "dataFinal.shape"
   ]
  },
  {
   "cell_type": "code",
   "execution_count": 787,
   "metadata": {},
   "outputs": [
    {
     "name": "stdout",
     "output_type": "stream",
     "text": [
      "<class 'pandas.core.frame.DataFrame'>\n",
      "RangeIndex: 8598 entries, 0 to 8597\n",
      "Data columns (total 3 columns):\n",
      " #   Column        Non-Null Count  Dtype \n",
      "---  ------        --------------  ----- \n",
      " 0   LATITUD       8598 non-null   object\n",
      " 1   LONGITUD      8598 non-null   object\n",
      " 2   DISTANCIA_KM  8598 non-null   object\n",
      "dtypes: object(3)\n",
      "memory usage: 201.6+ KB\n"
     ]
    }
   ],
   "source": [
    "dataFinal[['LATITUD', 'LONGITUD', 'DISTANCIA_KM']].info()"
   ]
  },
  {
   "cell_type": "code",
   "execution_count": 788,
   "metadata": {},
   "outputs": [
    {
     "name": "stderr",
     "output_type": "stream",
     "text": [
      "C:\\Users\\DH\\AppData\\Local\\Temp\\ipykernel_3884\\1154113124.py:2: FutureWarning: The default value of regex will change from True to False in a future version. In addition, single character regular expressions will *not* be treated as literal strings when regex=True.\n",
      "  dataFinal['LATITUD'] = dataFinal['LATITUD'].astype(str).str.replace('.', ',')\n",
      "C:\\Users\\DH\\AppData\\Local\\Temp\\ipykernel_3884\\1154113124.py:3: FutureWarning: The default value of regex will change from True to False in a future version. In addition, single character regular expressions will *not* be treated as literal strings when regex=True.\n",
      "  dataFinal['LONGITUD'] = dataFinal['LONGITUD'].astype(str).str.replace('.', ',')\n",
      "C:\\Users\\DH\\AppData\\Local\\Temp\\ipykernel_3884\\1154113124.py:4: FutureWarning: The default value of regex will change from True to False in a future version. In addition, single character regular expressions will *not* be treated as literal strings when regex=True.\n",
      "  dataFinal['DISTANCIA_KM'] = dataFinal['DISTANCIA_KM'].astype(str).str.replace('.', ',')\n"
     ]
    }
   ],
   "source": [
    "# Reemplazar el punto por la coma en las columnas\n",
    "dataFinal['LATITUD'] = dataFinal['LATITUD'].astype(str).str.replace('.', ',')\n",
    "dataFinal['LONGITUD'] = dataFinal['LONGITUD'].astype(str).str.replace('.', ',')\n",
    "dataFinal['DISTANCIA_KM'] = dataFinal['DISTANCIA_KM'].astype(str).str.replace('.', ',')"
   ]
  },
  {
   "cell_type": "code",
   "execution_count": 789,
   "metadata": {},
   "outputs": [
    {
     "data": {
      "text/html": [
       "<div>\n",
       "<style scoped>\n",
       "    .dataframe tbody tr th:only-of-type {\n",
       "        vertical-align: middle;\n",
       "    }\n",
       "\n",
       "    .dataframe tbody tr th {\n",
       "        vertical-align: top;\n",
       "    }\n",
       "\n",
       "    .dataframe thead th {\n",
       "        text-align: right;\n",
       "    }\n",
       "</style>\n",
       "<table border=\"1\" class=\"dataframe\">\n",
       "  <thead>\n",
       "    <tr style=\"text-align: right;\">\n",
       "      <th></th>\n",
       "      <th>LONGITUD</th>\n",
       "      <th>LATITUD</th>\n",
       "      <th>DISTANCIA_KM</th>\n",
       "    </tr>\n",
       "  </thead>\n",
       "  <tbody>\n",
       "    <tr>\n",
       "      <th>0</th>\n",
       "      <td>-58,3886402930729</td>\n",
       "      <td>-34,6337312154708</td>\n",
       "      <td>10,7</td>\n",
       "    </tr>\n",
       "    <tr>\n",
       "      <th>1</th>\n",
       "      <td>-58,4403311131044</td>\n",
       "      <td>-34,5402243475673</td>\n",
       "      <td>1,0</td>\n",
       "    </tr>\n",
       "    <tr>\n",
       "      <th>2</th>\n",
       "      <td>-58,4403311131044</td>\n",
       "      <td>-34,5402243475673</td>\n",
       "      <td>1,0</td>\n",
       "    </tr>\n",
       "    <tr>\n",
       "      <th>3</th>\n",
       "      <td>-58,502521732609</td>\n",
       "      <td>-34,6745061867358</td>\n",
       "      <td>15,0</td>\n",
       "    </tr>\n",
       "    <tr>\n",
       "      <th>4</th>\n",
       "      <td>-58,4403311131044</td>\n",
       "      <td>-34,5402243475673</td>\n",
       "      <td>1,0</td>\n",
       "    </tr>\n",
       "    <tr>\n",
       "      <th>...</th>\n",
       "      <td>...</td>\n",
       "      <td>...</td>\n",
       "      <td>...</td>\n",
       "    </tr>\n",
       "    <tr>\n",
       "      <th>8593</th>\n",
       "      <td>-67,195172</td>\n",
       "      <td>-54,511439</td>\n",
       "      <td>2320,6</td>\n",
       "    </tr>\n",
       "    <tr>\n",
       "      <th>8594</th>\n",
       "      <td>-67,762905</td>\n",
       "      <td>-54,640783</td>\n",
       "      <td>2347,3</td>\n",
       "    </tr>\n",
       "    <tr>\n",
       "      <th>8595</th>\n",
       "      <td>-67,762905</td>\n",
       "      <td>-54,640783</td>\n",
       "      <td>2347,3</td>\n",
       "    </tr>\n",
       "    <tr>\n",
       "      <th>8596</th>\n",
       "      <td>-67,195172</td>\n",
       "      <td>-54,511439</td>\n",
       "      <td>2320,6</td>\n",
       "    </tr>\n",
       "    <tr>\n",
       "      <th>8597</th>\n",
       "      <td>-67,195172</td>\n",
       "      <td>-54,511439</td>\n",
       "      <td>2320,6</td>\n",
       "    </tr>\n",
       "  </tbody>\n",
       "</table>\n",
       "<p>8598 rows × 3 columns</p>\n",
       "</div>"
      ],
      "text/plain": [
       "               LONGITUD            LATITUD DISTANCIA_KM\n",
       "0     -58,3886402930729  -34,6337312154708         10,7\n",
       "1     -58,4403311131044  -34,5402243475673          1,0\n",
       "2     -58,4403311131044  -34,5402243475673          1,0\n",
       "3      -58,502521732609  -34,6745061867358         15,0\n",
       "4     -58,4403311131044  -34,5402243475673          1,0\n",
       "...                 ...                ...          ...\n",
       "8593         -67,195172         -54,511439       2320,6\n",
       "8594         -67,762905         -54,640783       2347,3\n",
       "8595         -67,762905         -54,640783       2347,3\n",
       "8596         -67,195172         -54,511439       2320,6\n",
       "8597         -67,195172         -54,511439       2320,6\n",
       "\n",
       "[8598 rows x 3 columns]"
      ]
     },
     "execution_count": 789,
     "metadata": {},
     "output_type": "execute_result"
    }
   ],
   "source": [
    "dataFinal[['LONGITUD', 'LATITUD', 'DISTANCIA_KM']]"
   ]
  },
  {
   "cell_type": "code",
   "execution_count": 790,
   "metadata": {},
   "outputs": [
    {
     "data": {
      "text/plain": [
       "638,9     351\n",
       "264,0     328\n",
       "17,9      258\n",
       "51,3      252\n",
       "23,5      180\n",
       "         ... \n",
       "824,7       1\n",
       "1290,3      1\n",
       "858,7       1\n",
       "809,7       1\n",
       "641,8       1\n",
       "Name: DISTANCIA_KM, Length: 387, dtype: int64"
      ]
     },
     "execution_count": 790,
     "metadata": {},
     "output_type": "execute_result"
    }
   ],
   "source": [
    "dataFinal[\"DISTANCIA_KM\"].value_counts()"
   ]
  },
  {
   "cell_type": "code",
   "execution_count": 791,
   "metadata": {},
   "outputs": [],
   "source": [
    "# Exportamos los datos finales\n",
    "dataFinal.to_csv(\"Dataset Colegios Privados con Coordenadas FINAL.csv\", encoding=\"utf-8\", index=False)"
   ]
  }
 ],
 "metadata": {
  "kernelspec": {
   "display_name": "env",
   "language": "python",
   "name": "python3"
  },
  "language_info": {
   "codemirror_mode": {
    "name": "ipython",
    "version": 3
   },
   "file_extension": ".py",
   "mimetype": "text/x-python",
   "name": "python",
   "nbconvert_exporter": "python",
   "pygments_lexer": "ipython3",
   "version": "3.10.2"
  },
  "orig_nbformat": 4
 },
 "nbformat": 4,
 "nbformat_minor": 2
}
